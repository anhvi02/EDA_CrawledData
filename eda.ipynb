{
 "cells": [
  {
   "cell_type": "markdown",
   "metadata": {},
   "source": [
    "# EDA PROJECT\n",
    "- Data: Crawled_Data.csv\n",
    "- The data is extracted from a website (webrank.vn)\n",
    "- By: Vi Pham\n",
    "- Github: https://github.com/anhvi02/EDA_CrawledData"
   ]
  },
  {
   "cell_type": "code",
   "execution_count": 26,
   "metadata": {},
   "outputs": [],
   "source": [
    "import pandas as pd\n",
    "import numpy as np\n",
    "import seaborn as sns\n",
    "import matplotlib.pyplot as plt"
   ]
  },
  {
   "cell_type": "markdown",
   "metadata": {},
   "source": [
    "# IMPORT DATA"
   ]
  },
  {
   "cell_type": "code",
   "execution_count": 27,
   "metadata": {},
   "outputs": [
    {
     "data": {
      "text/html": [
       "<div>\n",
       "<style scoped>\n",
       "    .dataframe tbody tr th:only-of-type {\n",
       "        vertical-align: middle;\n",
       "    }\n",
       "\n",
       "    .dataframe tbody tr th {\n",
       "        vertical-align: top;\n",
       "    }\n",
       "\n",
       "    .dataframe thead th {\n",
       "        text-align: right;\n",
       "    }\n",
       "</style>\n",
       "<table border=\"1\" class=\"dataframe\">\n",
       "  <thead>\n",
       "    <tr style=\"text-align: right;\">\n",
       "      <th></th>\n",
       "      <th>Website</th>\n",
       "      <th>Lĩnh vực</th>\n",
       "      <th>Traffic</th>\n",
       "      <th>U.Visitor</th>\n",
       "      <th>T/Gian</th>\n",
       "      <th>Page.Visit</th>\n",
       "      <th>PC vs Mobile</th>\n",
       "      <th>Trị giá</th>\n",
       "    </tr>\n",
       "  </thead>\n",
       "  <tbody>\n",
       "    <tr>\n",
       "      <th>0</th>\n",
       "      <td>youtube.com</td>\n",
       "      <td>Giải Trí</td>\n",
       "      <td>677990704</td>\n",
       "      <td>60207236</td>\n",
       "      <td>27:00</td>\n",
       "      <td>4.70</td>\n",
       "      <td>21.67%</td>\n",
       "      <td>394,265,449 USD</td>\n",
       "    </tr>\n",
       "    <tr>\n",
       "      <th>1</th>\n",
       "      <td>google.com</td>\n",
       "      <td>Công nghệ</td>\n",
       "      <td>526252980</td>\n",
       "      <td>75240611</td>\n",
       "      <td>21:27</td>\n",
       "      <td>3.34</td>\n",
       "      <td>40.51%</td>\n",
       "      <td>402,260,531 USD</td>\n",
       "    </tr>\n",
       "    <tr>\n",
       "      <th>2</th>\n",
       "      <td>facebook.com</td>\n",
       "      <td>Công nghệ</td>\n",
       "      <td>249247541</td>\n",
       "      <td>47305238</td>\n",
       "      <td>27:37</td>\n",
       "      <td>3.27</td>\n",
       "      <td>50.21%</td>\n",
       "      <td>86,066,277 USD</td>\n",
       "    </tr>\n",
       "    <tr>\n",
       "      <th>3</th>\n",
       "      <td>vnexpress.net</td>\n",
       "      <td>Tin tức</td>\n",
       "      <td>108599729</td>\n",
       "      <td>13972155</td>\n",
       "      <td>20:37</td>\n",
       "      <td>3.55</td>\n",
       "      <td>14.33%</td>\n",
       "      <td>1,338,351 USD</td>\n",
       "    </tr>\n",
       "    <tr>\n",
       "      <th>4</th>\n",
       "      <td>truyenfull.vn</td>\n",
       "      <td>Giải Trí</td>\n",
       "      <td>87648359</td>\n",
       "      <td>8094622</td>\n",
       "      <td>54:34</td>\n",
       "      <td>7.71</td>\n",
       "      <td>2.23%</td>\n",
       "      <td>858,829 USD</td>\n",
       "    </tr>\n",
       "  </tbody>\n",
       "</table>\n",
       "</div>"
      ],
      "text/plain": [
       "         Website   Lĩnh vực    Traffic  U.Visitor T/Gian  Page.Visit  \\\n",
       "0    youtube.com   Giải Trí  677990704   60207236  27:00        4.70   \n",
       "1     google.com  Công nghệ  526252980   75240611  21:27        3.34   \n",
       "2   facebook.com  Công nghệ  249247541   47305238  27:37        3.27   \n",
       "3  vnexpress.net    Tin tức  108599729   13972155  20:37        3.55   \n",
       "4  truyenfull.vn   Giải Trí   87648359    8094622  54:34        7.71   \n",
       "\n",
       "  PC vs Mobile          Trị giá  \n",
       "0       21.67%  394,265,449 USD  \n",
       "1       40.51%  402,260,531 USD  \n",
       "2       50.21%   86,066,277 USD  \n",
       "3       14.33%    1,338,351 USD  \n",
       "4        2.23%      858,829 USD  "
      ]
     },
     "execution_count": 27,
     "metadata": {},
     "output_type": "execute_result"
    }
   ],
   "source": [
    "df = pd.read_csv('Crawled_Data.csv')\n",
    "df = df[:10000]\n",
    "df.drop(columns={'Unnamed: 0'}, inplace=True)\n",
    "df.head(5)"
   ]
  },
  {
   "cell_type": "code",
   "execution_count": 28,
   "metadata": {},
   "outputs": [
    {
     "data": {
      "text/plain": [
       "(10000, 8)"
      ]
     },
     "execution_count": 28,
     "metadata": {},
     "output_type": "execute_result"
    }
   ],
   "source": [
    "df.shape "
   ]
  },
  {
   "cell_type": "markdown",
   "metadata": {},
   "source": [
    "Reformat data"
   ]
  },
  {
   "cell_type": "code",
   "execution_count": 29,
   "metadata": {},
   "outputs": [
    {
     "data": {
      "text/html": [
       "<div>\n",
       "<style scoped>\n",
       "    .dataframe tbody tr th:only-of-type {\n",
       "        vertical-align: middle;\n",
       "    }\n",
       "\n",
       "    .dataframe tbody tr th {\n",
       "        vertical-align: top;\n",
       "    }\n",
       "\n",
       "    .dataframe thead th {\n",
       "        text-align: right;\n",
       "    }\n",
       "</style>\n",
       "<table border=\"1\" class=\"dataframe\">\n",
       "  <thead>\n",
       "    <tr style=\"text-align: right;\">\n",
       "      <th></th>\n",
       "      <th>Website</th>\n",
       "      <th>Field</th>\n",
       "      <th>Traffic</th>\n",
       "      <th>Visitor</th>\n",
       "      <th>Average Time</th>\n",
       "      <th>Page/Visit</th>\n",
       "      <th>PC vs Mobile</th>\n",
       "      <th>Value</th>\n",
       "    </tr>\n",
       "  </thead>\n",
       "  <tbody>\n",
       "    <tr>\n",
       "      <th>0</th>\n",
       "      <td>youtube.com</td>\n",
       "      <td>Giải Trí</td>\n",
       "      <td>677990704</td>\n",
       "      <td>60207236</td>\n",
       "      <td>27:00</td>\n",
       "      <td>4.70</td>\n",
       "      <td>21.67%</td>\n",
       "      <td>394,265,449 USD</td>\n",
       "    </tr>\n",
       "    <tr>\n",
       "      <th>1</th>\n",
       "      <td>google.com</td>\n",
       "      <td>Công nghệ</td>\n",
       "      <td>526252980</td>\n",
       "      <td>75240611</td>\n",
       "      <td>21:27</td>\n",
       "      <td>3.34</td>\n",
       "      <td>40.51%</td>\n",
       "      <td>402,260,531 USD</td>\n",
       "    </tr>\n",
       "    <tr>\n",
       "      <th>2</th>\n",
       "      <td>facebook.com</td>\n",
       "      <td>Công nghệ</td>\n",
       "      <td>249247541</td>\n",
       "      <td>47305238</td>\n",
       "      <td>27:37</td>\n",
       "      <td>3.27</td>\n",
       "      <td>50.21%</td>\n",
       "      <td>86,066,277 USD</td>\n",
       "    </tr>\n",
       "  </tbody>\n",
       "</table>\n",
       "</div>"
      ],
      "text/plain": [
       "        Website      Field    Traffic   Visitor Average Time  Page/Visit  \\\n",
       "0   youtube.com   Giải Trí  677990704  60207236        27:00        4.70   \n",
       "1    google.com  Công nghệ  526252980  75240611        21:27        3.34   \n",
       "2  facebook.com  Công nghệ  249247541  47305238        27:37        3.27   \n",
       "\n",
       "  PC vs Mobile            Value  \n",
       "0       21.67%  394,265,449 USD  \n",
       "1       40.51%  402,260,531 USD  \n",
       "2       50.21%   86,066,277 USD  "
      ]
     },
     "execution_count": 29,
     "metadata": {},
     "output_type": "execute_result"
    }
   ],
   "source": [
    "df.rename(columns={'Lĩnh vực':'Field',\n",
    "                    'U.Visitor':'Visitor', \n",
    "                    'T/Gian': 'Average Time',\n",
    "                    'Page.Visit': 'Page/Visit',\n",
    "                    'Trị giá': 'Value'}, inplace=True)\n",
    "df.head(3)"
   ]
  },
  {
   "cell_type": "markdown",
   "metadata": {},
   "source": [
    "### METADATA\n",
    "- Title: Data of websites in Vietnam\n",
    "- Source: webrank.vn\n",
    "- Description: data is extracted from website (webrank.vn) by ViPham\n",
    "- Time: 6/2022\n",
    "- Size: 1.728kB\n",
    "- Shape: 10000 rows - 8 columns\n",
    "- Info:\n",
    "    - Traffic: total accesses.\n",
    "    - Visitor: total visitors. If an IP access the website and experienced 3 pages of the website, the count for Visitor is 1 and Traffic is 3\n",
    "    - Average Time (minutes): average use time of an IP/total visitors\n",
    "    - Page/Visit: average pages experienced by an IP/total visitors\n",
    "    - PC vs Mobile (percentage): rate of visitors using PC in comparison with that of Mobile\n",
    "    - Value (USD): value of the website based on 3 factors: traffic, expense on ads and growth rate"
   ]
  },
  {
   "cell_type": "markdown",
   "metadata": {},
   "source": [
    "# DATA CLEANING"
   ]
  },
  {
   "cell_type": "markdown",
   "metadata": {},
   "source": [
    "Convert Value column from categorical to numerical "
   ]
  },
  {
   "cell_type": "code",
   "execution_count": 30,
   "metadata": {},
   "outputs": [
    {
     "data": {
      "text/html": [
       "<div>\n",
       "<style scoped>\n",
       "    .dataframe tbody tr th:only-of-type {\n",
       "        vertical-align: middle;\n",
       "    }\n",
       "\n",
       "    .dataframe tbody tr th {\n",
       "        vertical-align: top;\n",
       "    }\n",
       "\n",
       "    .dataframe thead th {\n",
       "        text-align: right;\n",
       "    }\n",
       "</style>\n",
       "<table border=\"1\" class=\"dataframe\">\n",
       "  <thead>\n",
       "    <tr style=\"text-align: right;\">\n",
       "      <th></th>\n",
       "      <th>Website</th>\n",
       "      <th>Field</th>\n",
       "      <th>Traffic</th>\n",
       "      <th>Visitor</th>\n",
       "      <th>Average Time</th>\n",
       "      <th>Page/Visit</th>\n",
       "      <th>PC vs Mobile</th>\n",
       "      <th>Value</th>\n",
       "    </tr>\n",
       "  </thead>\n",
       "  <tbody>\n",
       "    <tr>\n",
       "      <th>0</th>\n",
       "      <td>youtube.com</td>\n",
       "      <td>Giải Trí</td>\n",
       "      <td>677990704</td>\n",
       "      <td>60207236</td>\n",
       "      <td>27.00</td>\n",
       "      <td>4.70</td>\n",
       "      <td>21.67</td>\n",
       "      <td>394265449.0</td>\n",
       "    </tr>\n",
       "    <tr>\n",
       "      <th>1</th>\n",
       "      <td>google.com</td>\n",
       "      <td>Công nghệ</td>\n",
       "      <td>526252980</td>\n",
       "      <td>75240611</td>\n",
       "      <td>21.45</td>\n",
       "      <td>3.34</td>\n",
       "      <td>40.51</td>\n",
       "      <td>402260531.0</td>\n",
       "    </tr>\n",
       "    <tr>\n",
       "      <th>2</th>\n",
       "      <td>facebook.com</td>\n",
       "      <td>Công nghệ</td>\n",
       "      <td>249247541</td>\n",
       "      <td>47305238</td>\n",
       "      <td>27.62</td>\n",
       "      <td>3.27</td>\n",
       "      <td>50.21</td>\n",
       "      <td>86066277.0</td>\n",
       "    </tr>\n",
       "    <tr>\n",
       "      <th>3</th>\n",
       "      <td>vnexpress.net</td>\n",
       "      <td>Tin tức</td>\n",
       "      <td>108599729</td>\n",
       "      <td>13972155</td>\n",
       "      <td>20.62</td>\n",
       "      <td>3.55</td>\n",
       "      <td>14.33</td>\n",
       "      <td>1338351.0</td>\n",
       "    </tr>\n",
       "    <tr>\n",
       "      <th>4</th>\n",
       "      <td>truyenfull.vn</td>\n",
       "      <td>Giải Trí</td>\n",
       "      <td>87648359</td>\n",
       "      <td>8094622</td>\n",
       "      <td>54.57</td>\n",
       "      <td>7.71</td>\n",
       "      <td>2.23</td>\n",
       "      <td>858829.0</td>\n",
       "    </tr>\n",
       "  </tbody>\n",
       "</table>\n",
       "</div>"
      ],
      "text/plain": [
       "         Website      Field    Traffic   Visitor  Average Time  Page/Visit  \\\n",
       "0    youtube.com   Giải Trí  677990704  60207236         27.00        4.70   \n",
       "1     google.com  Công nghệ  526252980  75240611         21.45        3.34   \n",
       "2   facebook.com  Công nghệ  249247541  47305238         27.62        3.27   \n",
       "3  vnexpress.net    Tin tức  108599729  13972155         20.62        3.55   \n",
       "4  truyenfull.vn   Giải Trí   87648359   8094622         54.57        7.71   \n",
       "\n",
       "   PC vs Mobile        Value  \n",
       "0         21.67  394265449.0  \n",
       "1         40.51  402260531.0  \n",
       "2         50.21   86066277.0  \n",
       "3         14.33    1338351.0  \n",
       "4          2.23     858829.0  "
      ]
     },
     "execution_count": 30,
     "metadata": {},
     "output_type": "execute_result"
    }
   ],
   "source": [
    "# remove USD\n",
    "rm1 = df['Value'].str.replace(',','')\n",
    "rm2 = rm1.str.replace(' USD', '')\n",
    "df['Value'] = rm2.astype(float) \n",
    "\n",
    "# remove % \n",
    "rm3 = df['PC vs Mobile'].str.replace('%','')\n",
    "df['PC vs Mobile'] = rm3.astype(float) \n",
    "\n",
    "# convert to minutes\n",
    "new_time = []\n",
    "for ele in df['Average Time']:\n",
    "    second = int(ele[-2:])/60\n",
    "    minute = round(int(ele[:-3]) + second,2)\n",
    "    new_time.append(minute)\n",
    "df['Average Time'] = new_time\n",
    "\n",
    "df.head(5) "
   ]
  },
  {
   "cell_type": "markdown",
   "metadata": {},
   "source": [
    "Duplicated data"
   ]
  },
  {
   "cell_type": "code",
   "execution_count": 31,
   "metadata": {},
   "outputs": [
    {
     "data": {
      "text/html": [
       "<div>\n",
       "<style scoped>\n",
       "    .dataframe tbody tr th:only-of-type {\n",
       "        vertical-align: middle;\n",
       "    }\n",
       "\n",
       "    .dataframe tbody tr th {\n",
       "        vertical-align: top;\n",
       "    }\n",
       "\n",
       "    .dataframe thead th {\n",
       "        text-align: right;\n",
       "    }\n",
       "</style>\n",
       "<table border=\"1\" class=\"dataframe\">\n",
       "  <thead>\n",
       "    <tr style=\"text-align: right;\">\n",
       "      <th></th>\n",
       "      <th>Website</th>\n",
       "      <th>Field</th>\n",
       "      <th>Traffic</th>\n",
       "      <th>Visitor</th>\n",
       "      <th>Average Time</th>\n",
       "      <th>Page/Visit</th>\n",
       "      <th>PC vs Mobile</th>\n",
       "      <th>Value</th>\n",
       "    </tr>\n",
       "  </thead>\n",
       "  <tbody>\n",
       "    <tr>\n",
       "      <th>50</th>\n",
       "      <td>youtube.com</td>\n",
       "      <td>Giải Trí</td>\n",
       "      <td>677990704</td>\n",
       "      <td>60207236</td>\n",
       "      <td>27.00</td>\n",
       "      <td>4.70</td>\n",
       "      <td>21.67</td>\n",
       "      <td>394265449.0</td>\n",
       "    </tr>\n",
       "    <tr>\n",
       "      <th>51</th>\n",
       "      <td>google.com</td>\n",
       "      <td>Công nghệ</td>\n",
       "      <td>526252980</td>\n",
       "      <td>75240611</td>\n",
       "      <td>21.45</td>\n",
       "      <td>3.34</td>\n",
       "      <td>40.51</td>\n",
       "      <td>402260531.0</td>\n",
       "    </tr>\n",
       "    <tr>\n",
       "      <th>52</th>\n",
       "      <td>facebook.com</td>\n",
       "      <td>Công nghệ</td>\n",
       "      <td>249247541</td>\n",
       "      <td>47305238</td>\n",
       "      <td>27.62</td>\n",
       "      <td>3.27</td>\n",
       "      <td>50.21</td>\n",
       "      <td>86066277.0</td>\n",
       "    </tr>\n",
       "    <tr>\n",
       "      <th>53</th>\n",
       "      <td>vnexpress.net</td>\n",
       "      <td>Tin tức</td>\n",
       "      <td>108599729</td>\n",
       "      <td>13972155</td>\n",
       "      <td>20.62</td>\n",
       "      <td>3.55</td>\n",
       "      <td>14.33</td>\n",
       "      <td>1338351.0</td>\n",
       "    </tr>\n",
       "    <tr>\n",
       "      <th>54</th>\n",
       "      <td>truyenfull.vn</td>\n",
       "      <td>Giải Trí</td>\n",
       "      <td>87648359</td>\n",
       "      <td>8094622</td>\n",
       "      <td>54.57</td>\n",
       "      <td>7.71</td>\n",
       "      <td>2.23</td>\n",
       "      <td>858829.0</td>\n",
       "    </tr>\n",
       "    <tr>\n",
       "      <th>...</th>\n",
       "      <td>...</td>\n",
       "      <td>...</td>\n",
       "      <td>...</td>\n",
       "      <td>...</td>\n",
       "      <td>...</td>\n",
       "      <td>...</td>\n",
       "      <td>...</td>\n",
       "      <td>...</td>\n",
       "    </tr>\n",
       "    <tr>\n",
       "      <th>6545</th>\n",
       "      <td>edu.1c.ru</td>\n",
       "      <td>NaN</td>\n",
       "      <td>42418</td>\n",
       "      <td>4666</td>\n",
       "      <td>29.15</td>\n",
       "      <td>2.55</td>\n",
       "      <td>100.00</td>\n",
       "      <td>36616.0</td>\n",
       "    </tr>\n",
       "    <tr>\n",
       "      <th>6546</th>\n",
       "      <td>pachaiphong.vn</td>\n",
       "      <td>NaN</td>\n",
       "      <td>42391</td>\n",
       "      <td>41055</td>\n",
       "      <td>20.50</td>\n",
       "      <td>1.06</td>\n",
       "      <td>28.37</td>\n",
       "      <td>357.0</td>\n",
       "    </tr>\n",
       "    <tr>\n",
       "      <th>6547</th>\n",
       "      <td>monngon.tv</td>\n",
       "      <td>Thực phẩm</td>\n",
       "      <td>42378</td>\n",
       "      <td>37406</td>\n",
       "      <td>2.75</td>\n",
       "      <td>1.20</td>\n",
       "      <td>55.06</td>\n",
       "      <td>369.0</td>\n",
       "    </tr>\n",
       "    <tr>\n",
       "      <th>6548</th>\n",
       "      <td>well.ca</td>\n",
       "      <td>Sức khỏe</td>\n",
       "      <td>42360</td>\n",
       "      <td>4236</td>\n",
       "      <td>10.80</td>\n",
       "      <td>1.60</td>\n",
       "      <td>100.00</td>\n",
       "      <td>16767.0</td>\n",
       "    </tr>\n",
       "    <tr>\n",
       "      <th>6549</th>\n",
       "      <td>alokiddy.com.vn</td>\n",
       "      <td>Khoa học</td>\n",
       "      <td>42334</td>\n",
       "      <td>28812</td>\n",
       "      <td>12.67</td>\n",
       "      <td>7.29</td>\n",
       "      <td>85.55</td>\n",
       "      <td>367.0</td>\n",
       "    </tr>\n",
       "  </tbody>\n",
       "</table>\n",
       "<p>350 rows × 8 columns</p>\n",
       "</div>"
      ],
      "text/plain": [
       "              Website      Field    Traffic   Visitor  Average Time  \\\n",
       "50        youtube.com   Giải Trí  677990704  60207236         27.00   \n",
       "51         google.com  Công nghệ  526252980  75240611         21.45   \n",
       "52       facebook.com  Công nghệ  249247541  47305238         27.62   \n",
       "53      vnexpress.net    Tin tức  108599729  13972155         20.62   \n",
       "54      truyenfull.vn   Giải Trí   87648359   8094622         54.57   \n",
       "...               ...        ...        ...       ...           ...   \n",
       "6545        edu.1c.ru        NaN      42418      4666         29.15   \n",
       "6546   pachaiphong.vn        NaN      42391     41055         20.50   \n",
       "6547       monngon.tv  Thực phẩm      42378     37406          2.75   \n",
       "6548          well.ca   Sức khỏe      42360      4236         10.80   \n",
       "6549  alokiddy.com.vn   Khoa học      42334     28812         12.67   \n",
       "\n",
       "      Page/Visit  PC vs Mobile        Value  \n",
       "50          4.70         21.67  394265449.0  \n",
       "51          3.34         40.51  402260531.0  \n",
       "52          3.27         50.21   86066277.0  \n",
       "53          3.55         14.33    1338351.0  \n",
       "54          7.71          2.23     858829.0  \n",
       "...          ...           ...          ...  \n",
       "6545        2.55        100.00      36616.0  \n",
       "6546        1.06         28.37        357.0  \n",
       "6547        1.20         55.06        369.0  \n",
       "6548        1.60        100.00      16767.0  \n",
       "6549        7.29         85.55        367.0  \n",
       "\n",
       "[350 rows x 8 columns]"
      ]
     },
     "execution_count": 31,
     "metadata": {},
     "output_type": "execute_result"
    }
   ],
   "source": [
    "df[df.duplicated()]"
   ]
  },
  {
   "cell_type": "code",
   "execution_count": 32,
   "metadata": {},
   "outputs": [],
   "source": [
    "# Remove 350 duplicates\n",
    "df.drop_duplicates(inplace=True)"
   ]
  },
  {
   "cell_type": "code",
   "execution_count": 33,
   "metadata": {},
   "outputs": [
    {
     "data": {
      "text/plain": [
       "(9650, 8)"
      ]
     },
     "execution_count": 33,
     "metadata": {},
     "output_type": "execute_result"
    }
   ],
   "source": [
    "df.shape"
   ]
  },
  {
   "cell_type": "markdown",
   "metadata": {},
   "source": [
    "Missing Values"
   ]
  },
  {
   "cell_type": "code",
   "execution_count": 34,
   "metadata": {},
   "outputs": [
    {
     "data": {
      "text/plain": [
       "Website            0\n",
       "Field           1401\n",
       "Traffic            0\n",
       "Visitor            0\n",
       "Average Time       0\n",
       "Page/Visit         0\n",
       "PC vs Mobile       0\n",
       "Value              0\n",
       "dtype: int64"
      ]
     },
     "execution_count": 34,
     "metadata": {},
     "output_type": "execute_result"
    }
   ],
   "source": [
    "df.isnull().sum()"
   ]
  },
  {
   "cell_type": "code",
   "execution_count": 35,
   "metadata": {},
   "outputs": [
    {
     "data": {
      "text/plain": [
       "array(['Giải Trí', 'Công nghệ', 'Tin tức', nan, 'Trò chơi', 'TMDT',\n",
       "       'Tài liệu', 'Người lớn', 'Social Casino', 'Sức khỏe', 'Khoa học',\n",
       "       'Thể thao', 'Nghề nghiệp', 'Tài chính', 'Chính phủ', 'Đời sống',\n",
       "       'Doanh nghiệp', 'Nhà cửa', 'Xe cộ', 'Thực phẩm', 'Du lịch',\n",
       "       'Động vật', 'Sở thích', 'Cộng đồng', 'Công nghiệp'], dtype=object)"
      ]
     },
     "execution_count": 35,
     "metadata": {},
     "output_type": "execute_result"
    }
   ],
   "source": [
    "df['Field'].unique()"
   ]
  },
  {
   "cell_type": "code",
   "execution_count": 36,
   "metadata": {},
   "outputs": [
    {
     "data": {
      "text/plain": [
       "Website         0\n",
       "Field           0\n",
       "Traffic         0\n",
       "Visitor         0\n",
       "Average Time    0\n",
       "Page/Visit      0\n",
       "PC vs Mobile    0\n",
       "Value           0\n",
       "dtype: int64"
      ]
     },
     "execution_count": 36,
     "metadata": {},
     "output_type": "execute_result"
    }
   ],
   "source": [
    "# Replace nulls in the Field column with 'Missing'\n",
    "df['Field'] = df['Field'].fillna('Missing')\n",
    "df.isnull().sum()"
   ]
  },
  {
   "cell_type": "markdown",
   "metadata": {},
   "source": [
    "# Analysis"
   ]
  },
  {
   "cell_type": "markdown",
   "metadata": {},
   "source": [
    "Data Type"
   ]
  },
  {
   "cell_type": "code",
   "execution_count": 37,
   "metadata": {},
   "outputs": [
    {
     "data": {
      "text/plain": [
       "Website          object\n",
       "Field            object\n",
       "Traffic           int64\n",
       "Visitor           int64\n",
       "Average Time    float64\n",
       "Page/Visit      float64\n",
       "PC vs Mobile    float64\n",
       "Value           float64\n",
       "dtype: object"
      ]
     },
     "execution_count": 37,
     "metadata": {},
     "output_type": "execute_result"
    }
   ],
   "source": [
    "df.dtypes"
   ]
  },
  {
   "cell_type": "markdown",
   "metadata": {},
   "source": [
    "Descriptive statistics"
   ]
  },
  {
   "cell_type": "code",
   "execution_count": 38,
   "metadata": {},
   "outputs": [
    {
     "data": {
      "text/html": [
       "<div>\n",
       "<style scoped>\n",
       "    .dataframe tbody tr th:only-of-type {\n",
       "        vertical-align: middle;\n",
       "    }\n",
       "\n",
       "    .dataframe tbody tr th {\n",
       "        vertical-align: top;\n",
       "    }\n",
       "\n",
       "    .dataframe thead th {\n",
       "        text-align: right;\n",
       "    }\n",
       "</style>\n",
       "<table border=\"1\" class=\"dataframe\">\n",
       "  <thead>\n",
       "    <tr style=\"text-align: right;\">\n",
       "      <th></th>\n",
       "      <th>Traffic</th>\n",
       "      <th>Visitor</th>\n",
       "      <th>Average Time</th>\n",
       "      <th>Page/Visit</th>\n",
       "      <th>PC vs Mobile</th>\n",
       "      <th>Value</th>\n",
       "    </tr>\n",
       "  </thead>\n",
       "  <tbody>\n",
       "    <tr>\n",
       "      <th>count</th>\n",
       "      <td>9.650000e+03</td>\n",
       "      <td>9.650000e+03</td>\n",
       "      <td>9650.000000</td>\n",
       "      <td>9650.000000</td>\n",
       "      <td>9650.000000</td>\n",
       "      <td>9.650000e+03</td>\n",
       "    </tr>\n",
       "    <tr>\n",
       "      <th>mean</th>\n",
       "      <td>6.132642e+05</td>\n",
       "      <td>1.847394e+05</td>\n",
       "      <td>12.706819</td>\n",
       "      <td>3.348499</td>\n",
       "      <td>71.306415</td>\n",
       "      <td>2.598253e+05</td>\n",
       "    </tr>\n",
       "    <tr>\n",
       "      <th>std</th>\n",
       "      <td>9.510662e+06</td>\n",
       "      <td>1.308055e+06</td>\n",
       "      <td>13.628382</td>\n",
       "      <td>4.878908</td>\n",
       "      <td>33.879369</td>\n",
       "      <td>5.937200e+06</td>\n",
       "    </tr>\n",
       "    <tr>\n",
       "      <th>min</th>\n",
       "      <td>2.026200e+04</td>\n",
       "      <td>4.570000e+02</td>\n",
       "      <td>0.000000</td>\n",
       "      <td>1.000000</td>\n",
       "      <td>0.000000</td>\n",
       "      <td>1.700000e+02</td>\n",
       "    </tr>\n",
       "    <tr>\n",
       "      <th>25%</th>\n",
       "      <td>3.308625e+04</td>\n",
       "      <td>1.691325e+04</td>\n",
       "      <td>4.870000</td>\n",
       "      <td>1.450000</td>\n",
       "      <td>42.932500</td>\n",
       "      <td>5.530000e+02</td>\n",
       "    </tr>\n",
       "    <tr>\n",
       "      <th>50%</th>\n",
       "      <td>6.265450e+04</td>\n",
       "      <td>3.124100e+04</td>\n",
       "      <td>9.380000</td>\n",
       "      <td>2.180000</td>\n",
       "      <td>88.525000</td>\n",
       "      <td>4.482000e+03</td>\n",
       "    </tr>\n",
       "    <tr>\n",
       "      <th>75%</th>\n",
       "      <td>1.689960e+05</td>\n",
       "      <td>7.896275e+04</td>\n",
       "      <td>16.020000</td>\n",
       "      <td>3.630000</td>\n",
       "      <td>100.000000</td>\n",
       "      <td>5.338275e+04</td>\n",
       "    </tr>\n",
       "    <tr>\n",
       "      <th>max</th>\n",
       "      <td>6.779907e+08</td>\n",
       "      <td>7.524061e+07</td>\n",
       "      <td>238.800000</td>\n",
       "      <td>212.330000</td>\n",
       "      <td>100.000000</td>\n",
       "      <td>4.022605e+08</td>\n",
       "    </tr>\n",
       "  </tbody>\n",
       "</table>\n",
       "</div>"
      ],
      "text/plain": [
       "            Traffic       Visitor  Average Time   Page/Visit  PC vs Mobile  \\\n",
       "count  9.650000e+03  9.650000e+03   9650.000000  9650.000000   9650.000000   \n",
       "mean   6.132642e+05  1.847394e+05     12.706819     3.348499     71.306415   \n",
       "std    9.510662e+06  1.308055e+06     13.628382     4.878908     33.879369   \n",
       "min    2.026200e+04  4.570000e+02      0.000000     1.000000      0.000000   \n",
       "25%    3.308625e+04  1.691325e+04      4.870000     1.450000     42.932500   \n",
       "50%    6.265450e+04  3.124100e+04      9.380000     2.180000     88.525000   \n",
       "75%    1.689960e+05  7.896275e+04     16.020000     3.630000    100.000000   \n",
       "max    6.779907e+08  7.524061e+07    238.800000   212.330000    100.000000   \n",
       "\n",
       "              Value  \n",
       "count  9.650000e+03  \n",
       "mean   2.598253e+05  \n",
       "std    5.937200e+06  \n",
       "min    1.700000e+02  \n",
       "25%    5.530000e+02  \n",
       "50%    4.482000e+03  \n",
       "75%    5.338275e+04  \n",
       "max    4.022605e+08  "
      ]
     },
     "execution_count": 38,
     "metadata": {},
     "output_type": "execute_result"
    }
   ],
   "source": [
    "df.describe()"
   ]
  },
  {
   "cell_type": "markdown",
   "metadata": {},
   "source": [
    "Data distribution"
   ]
  },
  {
   "cell_type": "code",
   "execution_count": 39,
   "metadata": {},
   "outputs": [
    {
     "data": {
      "image/png": "[encoded data removed]",
      "text/plain": [
       "<Figure size 1080x720 with 6 Axes>"
      ]
     },
     "metadata": {
      "needs_background": "light"
     },
     "output_type": "display_data"
    }
   ],
   "source": [
    "plt.figure(figsize=(15,10))\n",
    "columns = ['Traffic','Visitor','Average Time', 'Page/Visit','PC vs Mobile','Value']\n",
    "for ind, col in enumerate(columns):\n",
    "    plt.subplot(2,3, ind+1)\n",
    "    sns.kdeplot(df[col], color='darkred')\n",
    "plt.tight_layout()\n",
    "plt.show()"
   ]
  },
  {
   "cell_type": "markdown",
   "metadata": {},
   "source": [
    "- Data distribution in all numerical columns is imbalanced\n",
    "- This indicates the significant difference in the popularity between websites"
   ]
  },
  {
   "cell_type": "code",
   "execution_count": 40,
   "metadata": {},
   "outputs": [
    {
     "data": {
      "image/png": "[encoded data removed]",
      "text/plain": [
       "<Figure size 504x504 with 1 Axes>"
      ]
     },
     "metadata": {},
     "output_type": "display_data"
    }
   ],
   "source": [
    "labels = df['Field'].value_counts().index\n",
    "sizes = df['Field'].value_counts ().values\n",
    "\n",
    "plt.figure(figsize =(7,7), facecolor='white')\n",
    "plt.pie(sizes, labels=labels, autopct=\"%.2f%%\")\n",
    "plt.title(\"Number of Regions\")\n",
    "plt.show()"
   ]
  },
  {
   "cell_type": "markdown",
   "metadata": {},
   "source": [
    "- TECHNOLOGY and Science dominates the chart with 26.28% ad 10.18%\n",
    "- The data is missing a lot of information in this field"
   ]
  },
  {
   "cell_type": "markdown",
   "metadata": {},
   "source": [
    "Relationship analysis"
   ]
  },
  {
   "cell_type": "code",
   "execution_count": 41,
   "metadata": {},
   "outputs": [
    {
     "data": {
      "image/png": "[encoded data removed]",
      "text/plain": [
       "<Figure size 720x576 with 2 Axes>"
      ]
     },
     "metadata": {
      "needs_background": "light"
     },
     "output_type": "display_data"
    }
   ],
   "source": [
    "corr = df.corr()\n",
    "plt.figure(figsize=(10,8))\n",
    "sns.heatmap(data=corr, annot=True)\n",
    "plt.show()"
   ]
  },
  {
   "cell_type": "markdown",
   "metadata": {},
   "source": [
    "- There are noticeable correlations between Traffic/Value and Visitor/Value. This is because of the value of a website is based on the number of Traffic and Visitor \n",
    "- There is a high correlation between Visitors and Traffic. This is because the count of Traffic relies on the count of Visitor. If an IP didn't visit the website, there wouldn't be any increase in Traffic.  "
   ]
  },
  {
   "cell_type": "markdown",
   "metadata": {},
   "source": [
    "# QUESTION AND ANSWER"
   ]
  },
  {
   "cell_type": "markdown",
   "metadata": {},
   "source": [
    "Best website in each field? Based on Value"
   ]
  },
  {
   "cell_type": "code",
   "execution_count": 42,
   "metadata": {},
   "outputs": [
    {
     "data": {
      "text/html": [
       "<div>\n",
       "<style scoped>\n",
       "    .dataframe tbody tr th:only-of-type {\n",
       "        vertical-align: middle;\n",
       "    }\n",
       "\n",
       "    .dataframe tbody tr th {\n",
       "        vertical-align: top;\n",
       "    }\n",
       "\n",
       "    .dataframe thead th {\n",
       "        text-align: right;\n",
       "    }\n",
       "</style>\n",
       "<table border=\"1\" class=\"dataframe\">\n",
       "  <thead>\n",
       "    <tr style=\"text-align: right;\">\n",
       "      <th></th>\n",
       "      <th>Website</th>\n",
       "      <th>Field</th>\n",
       "      <th>Value</th>\n",
       "    </tr>\n",
       "  </thead>\n",
       "  <tbody>\n",
       "    <tr>\n",
       "      <th>1</th>\n",
       "      <td>google.com</td>\n",
       "      <td>Công nghệ</td>\n",
       "      <td>402260531.0</td>\n",
       "    </tr>\n",
       "    <tr>\n",
       "      <th>0</th>\n",
       "      <td>youtube.com</td>\n",
       "      <td>Giải Trí</td>\n",
       "      <td>394265449.0</td>\n",
       "    </tr>\n",
       "    <tr>\n",
       "      <th>6</th>\n",
       "      <td>wikipedia.org</td>\n",
       "      <td>Tài liệu</td>\n",
       "      <td>52213219.0</td>\n",
       "    </tr>\n",
       "    <tr>\n",
       "      <th>7</th>\n",
       "      <td>pornhub.com</td>\n",
       "      <td>Người lớn</td>\n",
       "      <td>48801345.0</td>\n",
       "    </tr>\n",
       "    <tr>\n",
       "      <th>3</th>\n",
       "      <td>t.co</td>\n",
       "      <td>Missing</td>\n",
       "      <td>20144599.0</td>\n",
       "    </tr>\n",
       "    <tr>\n",
       "      <th>2</th>\n",
       "      <td>yahoo.com</td>\n",
       "      <td>Tin tức</td>\n",
       "      <td>17512155.0</td>\n",
       "    </tr>\n",
       "    <tr>\n",
       "      <th>13</th>\n",
       "      <td>money.cnn.com</td>\n",
       "      <td>Tài chính</td>\n",
       "      <td>6204161.0</td>\n",
       "    </tr>\n",
       "    <tr>\n",
       "      <th>11</th>\n",
       "      <td>espn.com</td>\n",
       "      <td>Thể thao</td>\n",
       "      <td>5910945.0</td>\n",
       "    </tr>\n",
       "    <tr>\n",
       "      <th>10</th>\n",
       "      <td>accuweather.com</td>\n",
       "      <td>Khoa học</td>\n",
       "      <td>5874930.0</td>\n",
       "    </tr>\n",
       "    <tr>\n",
       "      <th>12</th>\n",
       "      <td>indeed.com</td>\n",
       "      <td>Nghề nghiệp</td>\n",
       "      <td>5220710.0</td>\n",
       "    </tr>\n",
       "    <tr>\n",
       "      <th>5</th>\n",
       "      <td>walmart.com</td>\n",
       "      <td>TMDT</td>\n",
       "      <td>4901014.0</td>\n",
       "    </tr>\n",
       "    <tr>\n",
       "      <th>4</th>\n",
       "      <td>steamcommunity.com</td>\n",
       "      <td>Trò chơi</td>\n",
       "      <td>4896931.0</td>\n",
       "    </tr>\n",
       "    <tr>\n",
       "      <th>16</th>\n",
       "      <td>zillow.com</td>\n",
       "      <td>Doanh nghiệp</td>\n",
       "      <td>3102269.0</td>\n",
       "    </tr>\n",
       "    <tr>\n",
       "      <th>9</th>\n",
       "      <td>healthline.com</td>\n",
       "      <td>Sức khỏe</td>\n",
       "      <td>3039831.0</td>\n",
       "    </tr>\n",
       "    <tr>\n",
       "      <th>20</th>\n",
       "      <td>booking.com</td>\n",
       "      <td>Du lịch</td>\n",
       "      <td>2925413.0</td>\n",
       "    </tr>\n",
       "    <tr>\n",
       "      <th>17</th>\n",
       "      <td>homedepot.com</td>\n",
       "      <td>Nhà cửa</td>\n",
       "      <td>1739632.0</td>\n",
       "    </tr>\n",
       "    <tr>\n",
       "      <th>15</th>\n",
       "      <td>linktr.ee</td>\n",
       "      <td>Đời sống</td>\n",
       "      <td>1464186.0</td>\n",
       "    </tr>\n",
       "    <tr>\n",
       "      <th>19</th>\n",
       "      <td>allrecipes.com</td>\n",
       "      <td>Thực phẩm</td>\n",
       "      <td>1193028.0</td>\n",
       "    </tr>\n",
       "    <tr>\n",
       "      <th>23</th>\n",
       "      <td>tinder.com</td>\n",
       "      <td>Cộng đồng</td>\n",
       "      <td>804984.0</td>\n",
       "    </tr>\n",
       "    <tr>\n",
       "      <th>22</th>\n",
       "      <td>shutterstock.com</td>\n",
       "      <td>Sở thích</td>\n",
       "      <td>681465.0</td>\n",
       "    </tr>\n",
       "    <tr>\n",
       "      <th>18</th>\n",
       "      <td>flightradar24.com</td>\n",
       "      <td>Xe cộ</td>\n",
       "      <td>437263.0</td>\n",
       "    </tr>\n",
       "    <tr>\n",
       "      <th>14</th>\n",
       "      <td>canada.ca</td>\n",
       "      <td>Chính phủ</td>\n",
       "      <td>436923.0</td>\n",
       "    </tr>\n",
       "    <tr>\n",
       "      <th>8</th>\n",
       "      <td>xosodaiphat.com</td>\n",
       "      <td>Social Casino</td>\n",
       "      <td>332859.0</td>\n",
       "    </tr>\n",
       "    <tr>\n",
       "      <th>24</th>\n",
       "      <td>skyscrapercity.com</td>\n",
       "      <td>Công nghiệp</td>\n",
       "      <td>71574.0</td>\n",
       "    </tr>\n",
       "    <tr>\n",
       "      <th>21</th>\n",
       "      <td>247phim.com</td>\n",
       "      <td>Động vật</td>\n",
       "      <td>15369.0</td>\n",
       "    </tr>\n",
       "  </tbody>\n",
       "</table>\n",
       "</div>"
      ],
      "text/plain": [
       "               Website          Field        Value\n",
       "1           google.com      Công nghệ  402260531.0\n",
       "0          youtube.com       Giải Trí  394265449.0\n",
       "6        wikipedia.org       Tài liệu   52213219.0\n",
       "7          pornhub.com      Người lớn   48801345.0\n",
       "3                 t.co        Missing   20144599.0\n",
       "2            yahoo.com        Tin tức   17512155.0\n",
       "13       money.cnn.com      Tài chính    6204161.0\n",
       "11            espn.com       Thể thao    5910945.0\n",
       "10     accuweather.com       Khoa học    5874930.0\n",
       "12          indeed.com    Nghề nghiệp    5220710.0\n",
       "5          walmart.com           TMDT    4901014.0\n",
       "4   steamcommunity.com       Trò chơi    4896931.0\n",
       "16          zillow.com   Doanh nghiệp    3102269.0\n",
       "9       healthline.com       Sức khỏe    3039831.0\n",
       "20         booking.com        Du lịch    2925413.0\n",
       "17       homedepot.com        Nhà cửa    1739632.0\n",
       "15           linktr.ee       Đời sống    1464186.0\n",
       "19      allrecipes.com      Thực phẩm    1193028.0\n",
       "23          tinder.com      Cộng đồng     804984.0\n",
       "22    shutterstock.com       Sở thích     681465.0\n",
       "18   flightradar24.com          Xe cộ     437263.0\n",
       "14           canada.ca      Chính phủ     436923.0\n",
       "8      xosodaiphat.com  Social Casino     332859.0\n",
       "24  skyscrapercity.com    Công nghiệp      71574.0\n",
       "21         247phim.com       Động vật      15369.0"
      ]
     },
     "execution_count": 42,
     "metadata": {},
     "output_type": "execute_result"
    }
   ],
   "source": [
    "df1 = []\n",
    "fields_df = df.groupby('Field')\n",
    "fields = list(df['Field'].unique())\n",
    "for ele in fields:\n",
    "    onefield  = fields_df.get_group(ele)\n",
    "    top1 = onefield.sort_values('Value', ascending=False).iloc[0,[0,1,7]]\n",
    "    df1.append(top1)\n",
    "df1 = pd.DataFrame(df1).reset_index(drop=True).sort_values('Value', ascending=False)\n",
    "df1 "
   ]
  },
  {
   "cell_type": "markdown",
   "metadata": {},
   "source": [
    "Top 10 the most popular websites in Technology Field based on the number of Visitors"
   ]
  },
  {
   "cell_type": "code",
   "execution_count": 43,
   "metadata": {},
   "outputs": [
    {
     "data": {
      "text/html": [
       "<div>\n",
       "<style scoped>\n",
       "    .dataframe tbody tr th:only-of-type {\n",
       "        vertical-align: middle;\n",
       "    }\n",
       "\n",
       "    .dataframe tbody tr th {\n",
       "        vertical-align: top;\n",
       "    }\n",
       "\n",
       "    .dataframe thead th {\n",
       "        text-align: right;\n",
       "    }\n",
       "</style>\n",
       "<table border=\"1\" class=\"dataframe\">\n",
       "  <thead>\n",
       "    <tr style=\"text-align: right;\">\n",
       "      <th></th>\n",
       "      <th>Website</th>\n",
       "      <th>Field</th>\n",
       "      <th>Traffic</th>\n",
       "      <th>Visitor</th>\n",
       "      <th>Average Time</th>\n",
       "      <th>Page/Visit</th>\n",
       "      <th>PC vs Mobile</th>\n",
       "      <th>Value</th>\n",
       "    </tr>\n",
       "  </thead>\n",
       "  <tbody>\n",
       "    <tr>\n",
       "      <th>1</th>\n",
       "      <td>google.com</td>\n",
       "      <td>Công nghệ</td>\n",
       "      <td>526252980</td>\n",
       "      <td>75240611</td>\n",
       "      <td>21.45</td>\n",
       "      <td>3.34</td>\n",
       "      <td>40.51</td>\n",
       "      <td>402260531.0</td>\n",
       "    </tr>\n",
       "    <tr>\n",
       "      <th>2</th>\n",
       "      <td>facebook.com</td>\n",
       "      <td>Công nghệ</td>\n",
       "      <td>249247541</td>\n",
       "      <td>47305238</td>\n",
       "      <td>27.62</td>\n",
       "      <td>3.27</td>\n",
       "      <td>50.21</td>\n",
       "      <td>86066277.0</td>\n",
       "    </tr>\n",
       "    <tr>\n",
       "      <th>17</th>\n",
       "      <td>thegioididong.com</td>\n",
       "      <td>Công nghệ</td>\n",
       "      <td>32741778</td>\n",
       "      <td>14470668</td>\n",
       "      <td>10.58</td>\n",
       "      <td>2.59</td>\n",
       "      <td>17.95</td>\n",
       "      <td>292835.0</td>\n",
       "    </tr>\n",
       "    <tr>\n",
       "      <th>25</th>\n",
       "      <td>zalo.me</td>\n",
       "      <td>Công nghệ</td>\n",
       "      <td>25777010</td>\n",
       "      <td>10098057</td>\n",
       "      <td>17.83</td>\n",
       "      <td>2.15</td>\n",
       "      <td>58.55</td>\n",
       "      <td>229158.0</td>\n",
       "    </tr>\n",
       "    <tr>\n",
       "      <th>14</th>\n",
       "      <td>google.com.vn</td>\n",
       "      <td>Công nghệ</td>\n",
       "      <td>37842479</td>\n",
       "      <td>9620670</td>\n",
       "      <td>14.83</td>\n",
       "      <td>2.80</td>\n",
       "      <td>55.09</td>\n",
       "      <td>346086.0</td>\n",
       "    </tr>\n",
       "    <tr>\n",
       "      <th>100</th>\n",
       "      <td>dienmayxanh.com</td>\n",
       "      <td>Công nghệ</td>\n",
       "      <td>14740864</td>\n",
       "      <td>9173691</td>\n",
       "      <td>14.90</td>\n",
       "      <td>2.13</td>\n",
       "      <td>18.02</td>\n",
       "      <td>130455.0</td>\n",
       "    </tr>\n",
       "    <tr>\n",
       "      <th>37</th>\n",
       "      <td>twitter.com</td>\n",
       "      <td>Công nghệ</td>\n",
       "      <td>21189560</td>\n",
       "      <td>9010607</td>\n",
       "      <td>10.60</td>\n",
       "      <td>1.92</td>\n",
       "      <td>10.84</td>\n",
       "      <td>40054808.0</td>\n",
       "    </tr>\n",
       "    <tr>\n",
       "      <th>41</th>\n",
       "      <td>tiktok.com</td>\n",
       "      <td>Công nghệ</td>\n",
       "      <td>18296384</td>\n",
       "      <td>6812160</td>\n",
       "      <td>20.82</td>\n",
       "      <td>2.79</td>\n",
       "      <td>64.36</td>\n",
       "      <td>8928742.0</td>\n",
       "    </tr>\n",
       "    <tr>\n",
       "      <th>24</th>\n",
       "      <td>wordpress.com</td>\n",
       "      <td>Công nghệ</td>\n",
       "      <td>28468818</td>\n",
       "      <td>6450582</td>\n",
       "      <td>28.05</td>\n",
       "      <td>4.42</td>\n",
       "      <td>4.44</td>\n",
       "      <td>4464805.0</td>\n",
       "    </tr>\n",
       "    <tr>\n",
       "      <th>113</th>\n",
       "      <td>blogspot.com</td>\n",
       "      <td>Công nghệ</td>\n",
       "      <td>12446691</td>\n",
       "      <td>6012429</td>\n",
       "      <td>13.87</td>\n",
       "      <td>2.47</td>\n",
       "      <td>16.65</td>\n",
       "      <td>11967374.0</td>\n",
       "    </tr>\n",
       "  </tbody>\n",
       "</table>\n",
       "</div>"
      ],
      "text/plain": [
       "               Website      Field    Traffic   Visitor  Average Time  \\\n",
       "1           google.com  Công nghệ  526252980  75240611         21.45   \n",
       "2         facebook.com  Công nghệ  249247541  47305238         27.62   \n",
       "17   thegioididong.com  Công nghệ   32741778  14470668         10.58   \n",
       "25             zalo.me  Công nghệ   25777010  10098057         17.83   \n",
       "14       google.com.vn  Công nghệ   37842479   9620670         14.83   \n",
       "100    dienmayxanh.com  Công nghệ   14740864   9173691         14.90   \n",
       "37         twitter.com  Công nghệ   21189560   9010607         10.60   \n",
       "41          tiktok.com  Công nghệ   18296384   6812160         20.82   \n",
       "24       wordpress.com  Công nghệ   28468818   6450582         28.05   \n",
       "113       blogspot.com  Công nghệ   12446691   6012429         13.87   \n",
       "\n",
       "     Page/Visit  PC vs Mobile        Value  \n",
       "1          3.34         40.51  402260531.0  \n",
       "2          3.27         50.21   86066277.0  \n",
       "17         2.59         17.95     292835.0  \n",
       "25         2.15         58.55     229158.0  \n",
       "14         2.80         55.09     346086.0  \n",
       "100        2.13         18.02     130455.0  \n",
       "37         1.92         10.84   40054808.0  \n",
       "41         2.79         64.36    8928742.0  \n",
       "24         4.42          4.44    4464805.0  \n",
       "113        2.47         16.65   11967374.0  "
      ]
     },
     "execution_count": 43,
     "metadata": {},
     "output_type": "execute_result"
    }
   ],
   "source": [
    "df_tech = fields_df.get_group('Công nghệ').sort_values('Visitor', ascending=False).head(10)\n",
    "df_tech"
   ]
  },
  {
   "cell_type": "code",
   "execution_count": 44,
   "metadata": {},
   "outputs": [
    {
     "data": {
      "image/png": "[encoded data removed]",
      "text/plain": [
       "<Figure size 720x576 with 1 Axes>"
      ]
     },
     "metadata": {
      "needs_background": "light"
     },
     "output_type": "display_data"
    }
   ],
   "source": [
    "fig = plt.figure(figsize=(10,8))\n",
    "bar = sns.barplot(x=df['Visitor'], y=df_tech['Website'], palette='Blues_r')\n",
    "bar.set_title('Number of visitors in Technology websites')\n",
    "plt.tight_layout()\n",
    "plt.show()"
   ]
  },
  {
   "cell_type": "markdown",
   "metadata": {},
   "source": [
    "- In this chart, it can be seen that Google is the most popular website. Following that is Social Networks such as facebook, Zalo, Twitter, Tiktok.\n",
    "- The rise in the demand for shopping online results in a mass number of visitors to E-commerce websites such as Thegioididong (mobile devices retailer) and Dienmayxanh (electronic devices retailer)"
   ]
  },
  {
   "cell_type": "markdown",
   "metadata": {},
   "source": [
    "Which website owns the highest number of Traffics?"
   ]
  },
  {
   "cell_type": "code",
   "execution_count": 45,
   "metadata": {},
   "outputs": [
    {
     "data": {
      "image/png": "[encoded data removed]",
      "text/plain": [
       "<Figure size 720x576 with 1 Axes>"
      ]
     },
     "metadata": {
      "needs_background": "light"
     },
     "output_type": "display_data"
    }
   ],
   "source": [
    "fig = plt.figure(figsize=(10,8))\n",
    "df_traf = df.sort_values('Traffic', ascending=False).head(10)\n",
    "bar = sns.barplot(x=df_traf['Traffic'], y=df_traf['Website'], palette='Reds_r')\n",
    "bar.set_title('Highest Traffic Websites')\n",
    "plt.tight_layout()\n",
    "plt.show()"
   ]
  },
  {
   "cell_type": "markdown",
   "metadata": {},
   "source": [
    "Average value, visit time, traffic, visitors of each Field?"
   ]
  },
  {
   "cell_type": "code",
   "execution_count": 46,
   "metadata": {},
   "outputs": [
    {
     "data": {
      "text/html": [
       "<div>\n",
       "<style scoped>\n",
       "    .dataframe tbody tr th:only-of-type {\n",
       "        vertical-align: middle;\n",
       "    }\n",
       "\n",
       "    .dataframe tbody tr th {\n",
       "        vertical-align: top;\n",
       "    }\n",
       "\n",
       "    .dataframe thead th {\n",
       "        text-align: right;\n",
       "    }\n",
       "</style>\n",
       "<table border=\"1\" class=\"dataframe\">\n",
       "  <thead>\n",
       "    <tr style=\"text-align: right;\">\n",
       "      <th></th>\n",
       "      <th>Traffic</th>\n",
       "      <th>Visitor</th>\n",
       "      <th>Average Time</th>\n",
       "      <th>Value</th>\n",
       "    </tr>\n",
       "    <tr>\n",
       "      <th>Field</th>\n",
       "      <th></th>\n",
       "      <th></th>\n",
       "      <th></th>\n",
       "      <th></th>\n",
       "    </tr>\n",
       "  </thead>\n",
       "  <tbody>\n",
       "    <tr>\n",
       "      <th>Tài liệu</th>\n",
       "      <td>7.220487e+05</td>\n",
       "      <td>343785.326733</td>\n",
       "      <td>11.058317</td>\n",
       "      <td>775209.297030</td>\n",
       "    </tr>\n",
       "    <tr>\n",
       "      <th>Giải Trí</th>\n",
       "      <td>1.476469e+06</td>\n",
       "      <td>238495.524590</td>\n",
       "      <td>16.567982</td>\n",
       "      <td>680611.722573</td>\n",
       "    </tr>\n",
       "    <tr>\n",
       "      <th>Công nghệ</th>\n",
       "      <td>7.742166e+05</td>\n",
       "      <td>223777.188017</td>\n",
       "      <td>12.157144</td>\n",
       "      <td>469288.572831</td>\n",
       "    </tr>\n",
       "    <tr>\n",
       "      <th>Người lớn</th>\n",
       "      <td>5.328690e+05</td>\n",
       "      <td>188565.998066</td>\n",
       "      <td>9.197718</td>\n",
       "      <td>376298.187621</td>\n",
       "    </tr>\n",
       "    <tr>\n",
       "      <th>Missing</th>\n",
       "      <td>6.384553e+05</td>\n",
       "      <td>211617.565310</td>\n",
       "      <td>13.011399</td>\n",
       "      <td>207552.181299</td>\n",
       "    </tr>\n",
       "    <tr>\n",
       "      <th>Thể thao</th>\n",
       "      <td>5.741228e+05</td>\n",
       "      <td>113799.400000</td>\n",
       "      <td>12.547429</td>\n",
       "      <td>195115.466667</td>\n",
       "    </tr>\n",
       "    <tr>\n",
       "      <th>TMDT</th>\n",
       "      <td>5.155354e+05</td>\n",
       "      <td>243854.540845</td>\n",
       "      <td>10.750648</td>\n",
       "      <td>178290.014085</td>\n",
       "    </tr>\n",
       "    <tr>\n",
       "      <th>Nhà cửa</th>\n",
       "      <td>4.785720e+05</td>\n",
       "      <td>299577.400000</td>\n",
       "      <td>9.463333</td>\n",
       "      <td>177811.933333</td>\n",
       "    </tr>\n",
       "    <tr>\n",
       "      <th>Tin tức</th>\n",
       "      <td>6.475269e+05</td>\n",
       "      <td>221938.573940</td>\n",
       "      <td>13.751965</td>\n",
       "      <td>156348.552223</td>\n",
       "    </tr>\n",
       "    <tr>\n",
       "      <th>Nghề nghiệp</th>\n",
       "      <td>5.154680e+05</td>\n",
       "      <td>174838.362319</td>\n",
       "      <td>12.172899</td>\n",
       "      <td>145364.188406</td>\n",
       "    </tr>\n",
       "    <tr>\n",
       "      <th>Doanh nghiệp</th>\n",
       "      <td>1.330580e+05</td>\n",
       "      <td>64864.827815</td>\n",
       "      <td>13.180397</td>\n",
       "      <td>139212.615894</td>\n",
       "    </tr>\n",
       "    <tr>\n",
       "      <th>Sức khỏe</th>\n",
       "      <td>3.973962e+05</td>\n",
       "      <td>231307.472973</td>\n",
       "      <td>11.059122</td>\n",
       "      <td>117944.297297</td>\n",
       "    </tr>\n",
       "    <tr>\n",
       "      <th>Trò chơi</th>\n",
       "      <td>3.710182e+05</td>\n",
       "      <td>99876.796102</td>\n",
       "      <td>12.708666</td>\n",
       "      <td>113301.793103</td>\n",
       "    </tr>\n",
       "    <tr>\n",
       "      <th>Sở thích</th>\n",
       "      <td>1.332770e+05</td>\n",
       "      <td>67422.843137</td>\n",
       "      <td>12.198235</td>\n",
       "      <td>108385.098039</td>\n",
       "    </tr>\n",
       "    <tr>\n",
       "      <th>Tài chính</th>\n",
       "      <td>2.925130e+05</td>\n",
       "      <td>93984.783375</td>\n",
       "      <td>16.122065</td>\n",
       "      <td>91594.287154</td>\n",
       "    </tr>\n",
       "    <tr>\n",
       "      <th>Du lịch</th>\n",
       "      <td>2.380340e+05</td>\n",
       "      <td>145909.741935</td>\n",
       "      <td>10.320887</td>\n",
       "      <td>73402.790323</td>\n",
       "    </tr>\n",
       "    <tr>\n",
       "      <th>Khoa học</th>\n",
       "      <td>2.791090e+05</td>\n",
       "      <td>125884.334012</td>\n",
       "      <td>12.639980</td>\n",
       "      <td>55323.153768</td>\n",
       "    </tr>\n",
       "    <tr>\n",
       "      <th>Cộng đồng</th>\n",
       "      <td>9.539674e+04</td>\n",
       "      <td>36078.259259</td>\n",
       "      <td>11.245370</td>\n",
       "      <td>44903.740741</td>\n",
       "    </tr>\n",
       "    <tr>\n",
       "      <th>Đời sống</th>\n",
       "      <td>1.496423e+05</td>\n",
       "      <td>81066.947791</td>\n",
       "      <td>9.747831</td>\n",
       "      <td>44317.835341</td>\n",
       "    </tr>\n",
       "    <tr>\n",
       "      <th>Thực phẩm</th>\n",
       "      <td>1.966485e+05</td>\n",
       "      <td>132423.569620</td>\n",
       "      <td>8.301519</td>\n",
       "      <td>40808.924051</td>\n",
       "    </tr>\n",
       "    <tr>\n",
       "      <th>Social Casino</th>\n",
       "      <td>1.517939e+06</td>\n",
       "      <td>234965.201493</td>\n",
       "      <td>12.807687</td>\n",
       "      <td>39461.805970</td>\n",
       "    </tr>\n",
       "    <tr>\n",
       "      <th>Xe cộ</th>\n",
       "      <td>2.776537e+05</td>\n",
       "      <td>147520.829787</td>\n",
       "      <td>8.504149</td>\n",
       "      <td>23621.691489</td>\n",
       "    </tr>\n",
       "    <tr>\n",
       "      <th>Công nghiệp</th>\n",
       "      <td>5.246238e+04</td>\n",
       "      <td>15691.750000</td>\n",
       "      <td>11.880000</td>\n",
       "      <td>19656.875000</td>\n",
       "    </tr>\n",
       "    <tr>\n",
       "      <th>Chính phủ</th>\n",
       "      <td>2.122213e+05</td>\n",
       "      <td>125087.141593</td>\n",
       "      <td>13.248540</td>\n",
       "      <td>17607.530973</td>\n",
       "    </tr>\n",
       "    <tr>\n",
       "      <th>Động vật</th>\n",
       "      <td>1.645774e+05</td>\n",
       "      <td>94390.814815</td>\n",
       "      <td>11.758889</td>\n",
       "      <td>2178.333333</td>\n",
       "    </tr>\n",
       "  </tbody>\n",
       "</table>\n",
       "</div>"
      ],
      "text/plain": [
       "                    Traffic        Visitor  Average Time          Value\n",
       "Field                                                                  \n",
       "Tài liệu       7.220487e+05  343785.326733     11.058317  775209.297030\n",
       "Giải Trí       1.476469e+06  238495.524590     16.567982  680611.722573\n",
       "Công nghệ      7.742166e+05  223777.188017     12.157144  469288.572831\n",
       "Người lớn      5.328690e+05  188565.998066      9.197718  376298.187621\n",
       "Missing        6.384553e+05  211617.565310     13.011399  207552.181299\n",
       "Thể thao       5.741228e+05  113799.400000     12.547429  195115.466667\n",
       "TMDT           5.155354e+05  243854.540845     10.750648  178290.014085\n",
       "Nhà cửa        4.785720e+05  299577.400000      9.463333  177811.933333\n",
       "Tin tức        6.475269e+05  221938.573940     13.751965  156348.552223\n",
       "Nghề nghiệp    5.154680e+05  174838.362319     12.172899  145364.188406\n",
       "Doanh nghiệp   1.330580e+05   64864.827815     13.180397  139212.615894\n",
       "Sức khỏe       3.973962e+05  231307.472973     11.059122  117944.297297\n",
       "Trò chơi       3.710182e+05   99876.796102     12.708666  113301.793103\n",
       "Sở thích       1.332770e+05   67422.843137     12.198235  108385.098039\n",
       "Tài chính      2.925130e+05   93984.783375     16.122065   91594.287154\n",
       "Du lịch        2.380340e+05  145909.741935     10.320887   73402.790323\n",
       "Khoa học       2.791090e+05  125884.334012     12.639980   55323.153768\n",
       "Cộng đồng      9.539674e+04   36078.259259     11.245370   44903.740741\n",
       "Đời sống       1.496423e+05   81066.947791      9.747831   44317.835341\n",
       "Thực phẩm      1.966485e+05  132423.569620      8.301519   40808.924051\n",
       "Social Casino  1.517939e+06  234965.201493     12.807687   39461.805970\n",
       "Xe cộ          2.776537e+05  147520.829787      8.504149   23621.691489\n",
       "Công nghiệp    5.246238e+04   15691.750000     11.880000   19656.875000\n",
       "Chính phủ      2.122213e+05  125087.141593     13.248540   17607.530973\n",
       "Động vật       1.645774e+05   94390.814815     11.758889    2178.333333"
      ]
     },
     "execution_count": 46,
     "metadata": {},
     "output_type": "execute_result"
    }
   ],
   "source": [
    "df.groupby('Field').mean().drop(columns=['Page/Visit','PC vs Mobile']).sort_values('Value', ascending=False)"
   ]
  },
  {
   "cell_type": "markdown",
   "metadata": {},
   "source": [
    "Which device is more popular? PC or Mobile?"
   ]
  },
  {
   "cell_type": "code",
   "execution_count": 47,
   "metadata": {},
   "outputs": [
    {
     "data": {
      "image/png": "[encoded data removed]",
      "text/plain": [
       "<Figure size 504x504 with 1 Axes>"
      ]
     },
     "metadata": {},
     "output_type": "display_data"
    }
   ],
   "source": [
    "plt.figure(figsize =(7,7), facecolor='white')\n",
    "pc = 0\n",
    "for ele in df['PC vs Mobile']:\n",
    "    if ele > 50:\n",
    "        pc += 1\n",
    "mob = len(df) - pc\n",
    "pie = (pc, mob)\n",
    "labels = ['PC','Mobile']\n",
    "plt.pie(pie, labels=labels, autopct=\"%.2f%%\")\n",
    "plt.show()"
   ]
  },
  {
   "cell_type": "markdown",
   "metadata": {},
   "source": [
    "Which type of website might be suitable to earn from running advertisments?"
   ]
  },
  {
   "cell_type": "code",
   "execution_count": 48,
   "metadata": {},
   "outputs": [],
   "source": [
    "df_time = df.groupby('Field').mean('Average Time')\n",
    "df_time = df_time.sort_values('Average Time', ascending=False)\n",
    "df_time.reset_index(inplace=True)"
   ]
  },
  {
   "cell_type": "code",
   "execution_count": 49,
   "metadata": {},
   "outputs": [
    {
     "data": {
      "image/png": "[encoded data removed]",
      "text/plain": [
       "<Figure size 720x576 with 1 Axes>"
      ]
     },
     "metadata": {},
     "output_type": "display_data"
    }
   ],
   "source": [
    "plt.figure(figsize =(10,8), facecolor='white')\n",
    "sns.barplot(data=df_time,x =df_time['Average Time'], y =df_time['Field'], palette='copper')\n",
    "plt.title('Average Using Time For Each Fields')\n",
    "plt.tight_layout()\n",
    "plt.show()"
   ]
  },
  {
   "cell_type": "markdown",
   "metadata": {},
   "source": [
    "- As can be seen, 'Giải Trí' (Entertaining) and 'Tài chính' (Finance) websites are suitable to run marketing campains with ads due to the fact that people spent\n",
    "much more time for these 2 kinds of websites.\n",
    "- However, if the ads want to focus more on their target audience, it better focus on some specialized fields. For ex, launch car ads on car market websites."
   ]
  }
 ],
 "metadata": {
  "interpreter": {
   "hash": "2f155fbeb9494e5ce992090b8427abe3542dae7719d8ea0d05cb0b78608edd18"
  },
  "kernelspec": {
   "display_name": "Python 3.9.12 ('base')",
   "language": "python",
   "name": "python3"
  },
  "language_info": {
   "codemirror_mode": {
    "name": "ipython",
    "version": 3
   },
   "file_extension": ".py",
   "mimetype": "text/x-python",
   "name": "python",
   "nbconvert_exporter": "python",
   "pygments_lexer": "ipython3",
   "version": "3.9.12"
  },
  "orig_nbformat": 4
 },
 "nbformat": 4,
 "nbformat_minor": 2
}
