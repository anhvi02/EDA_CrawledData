{
 "cells": [
  {
   "cell_type": "markdown",
   "metadata": {},
   "source": [
    "# EDA PROJECT\n",
    "- Data: Crawled_Data.csv\n",
    "- The data is extracted from a website (webrank.vn)\n",
    "- By: Vi Pham\n",
    "- Github: https://github.com/anhvi02/EDA_CrawledData"
   ]
  },
  {
   "cell_type": "code",
   "execution_count": 83,
   "metadata": {},
   "outputs": [],
   "source": [
    "import pandas as pd\n",
    "import numpy as np\n",
    "import seaborn as sns\n",
    "import matplotlib.pyplot as plt"
   ]
  },
  {
   "cell_type": "markdown",
   "metadata": {},
   "source": [
    "# IMPORT DATA"
   ]
  },
  {
   "cell_type": "code",
   "execution_count": 84,
   "metadata": {},
   "outputs": [
    {
     "data": {
      "text/html": [
       "<div>\n",
       "<style scoped>\n",
       "    .dataframe tbody tr th:only-of-type {\n",
       "        vertical-align: middle;\n",
       "    }\n",
       "\n",
       "    .dataframe tbody tr th {\n",
       "        vertical-align: top;\n",
       "    }\n",
       "\n",
       "    .dataframe thead th {\n",
       "        text-align: right;\n",
       "    }\n",
       "</style>\n",
       "<table border=\"1\" class=\"dataframe\">\n",
       "  <thead>\n",
       "    <tr style=\"text-align: right;\">\n",
       "      <th></th>\n",
       "      <th>Website</th>\n",
       "      <th>Lĩnh vực</th>\n",
       "      <th>Traffic</th>\n",
       "      <th>U.Visitor</th>\n",
       "      <th>T/Gian</th>\n",
       "      <th>Page.Visit</th>\n",
       "      <th>PC vs Mobile</th>\n",
       "      <th>Trị giá</th>\n",
       "    </tr>\n",
       "  </thead>\n",
       "  <tbody>\n",
       "    <tr>\n",
       "      <th>0</th>\n",
       "      <td>youtube.com</td>\n",
       "      <td>Giải Trí</td>\n",
       "      <td>677990704</td>\n",
       "      <td>60207236</td>\n",
       "      <td>27:00</td>\n",
       "      <td>4.70</td>\n",
       "      <td>21.67%</td>\n",
       "      <td>394,265,449 USD</td>\n",
       "    </tr>\n",
       "    <tr>\n",
       "      <th>1</th>\n",
       "      <td>google.com</td>\n",
       "      <td>Công nghệ</td>\n",
       "      <td>526252980</td>\n",
       "      <td>75240611</td>\n",
       "      <td>21:27</td>\n",
       "      <td>3.34</td>\n",
       "      <td>40.51%</td>\n",
       "      <td>402,260,531 USD</td>\n",
       "    </tr>\n",
       "    <tr>\n",
       "      <th>2</th>\n",
       "      <td>facebook.com</td>\n",
       "      <td>Công nghệ</td>\n",
       "      <td>249247541</td>\n",
       "      <td>47305238</td>\n",
       "      <td>27:37</td>\n",
       "      <td>3.27</td>\n",
       "      <td>50.21%</td>\n",
       "      <td>86,066,277 USD</td>\n",
       "    </tr>\n",
       "    <tr>\n",
       "      <th>3</th>\n",
       "      <td>vnexpress.net</td>\n",
       "      <td>Tin tức</td>\n",
       "      <td>108599729</td>\n",
       "      <td>13972155</td>\n",
       "      <td>20:37</td>\n",
       "      <td>3.55</td>\n",
       "      <td>14.33%</td>\n",
       "      <td>1,338,351 USD</td>\n",
       "    </tr>\n",
       "    <tr>\n",
       "      <th>4</th>\n",
       "      <td>truyenfull.vn</td>\n",
       "      <td>Giải Trí</td>\n",
       "      <td>87648359</td>\n",
       "      <td>8094622</td>\n",
       "      <td>54:34</td>\n",
       "      <td>7.71</td>\n",
       "      <td>2.23%</td>\n",
       "      <td>858,829 USD</td>\n",
       "    </tr>\n",
       "  </tbody>\n",
       "</table>\n",
       "</div>"
      ],
      "text/plain": [
       "         Website   Lĩnh vực    Traffic  U.Visitor T/Gian  Page.Visit  \\\n",
       "0    youtube.com   Giải Trí  677990704   60207236  27:00        4.70   \n",
       "1     google.com  Công nghệ  526252980   75240611  21:27        3.34   \n",
       "2   facebook.com  Công nghệ  249247541   47305238  27:37        3.27   \n",
       "3  vnexpress.net    Tin tức  108599729   13972155  20:37        3.55   \n",
       "4  truyenfull.vn   Giải Trí   87648359    8094622  54:34        7.71   \n",
       "\n",
       "  PC vs Mobile          Trị giá  \n",
       "0       21.67%  394,265,449 USD  \n",
       "1       40.51%  402,260,531 USD  \n",
       "2       50.21%   86,066,277 USD  \n",
       "3       14.33%    1,338,351 USD  \n",
       "4        2.23%      858,829 USD  "
      ]
     },
     "execution_count": 84,
     "metadata": {},
     "output_type": "execute_result"
    }
   ],
   "source": [
    "df = pd.read_csv('Crawled_Data.csv')\n",
    "df.drop(columns={'Unnamed: 0'}, inplace=True)\n",
    "df.head(5)"
   ]
  },
  {
   "cell_type": "code",
   "execution_count": 85,
   "metadata": {},
   "outputs": [
    {
     "data": {
      "text/plain": [
       "(25000, 8)"
      ]
     },
     "execution_count": 85,
     "metadata": {},
     "output_type": "execute_result"
    }
   ],
   "source": [
    "df.shape "
   ]
  },
  {
   "cell_type": "markdown",
   "metadata": {},
   "source": [
    "Reformat data"
   ]
  },
  {
   "cell_type": "code",
   "execution_count": 86,
   "metadata": {},
   "outputs": [
    {
     "data": {
      "text/html": [
       "<div>\n",
       "<style scoped>\n",
       "    .dataframe tbody tr th:only-of-type {\n",
       "        vertical-align: middle;\n",
       "    }\n",
       "\n",
       "    .dataframe tbody tr th {\n",
       "        vertical-align: top;\n",
       "    }\n",
       "\n",
       "    .dataframe thead th {\n",
       "        text-align: right;\n",
       "    }\n",
       "</style>\n",
       "<table border=\"1\" class=\"dataframe\">\n",
       "  <thead>\n",
       "    <tr style=\"text-align: right;\">\n",
       "      <th></th>\n",
       "      <th>Website</th>\n",
       "      <th>Field</th>\n",
       "      <th>Traffic</th>\n",
       "      <th>Visitor</th>\n",
       "      <th>Average Time</th>\n",
       "      <th>Page/Visit</th>\n",
       "      <th>PC vs Mobile</th>\n",
       "      <th>Value</th>\n",
       "    </tr>\n",
       "  </thead>\n",
       "  <tbody>\n",
       "    <tr>\n",
       "      <th>0</th>\n",
       "      <td>youtube.com</td>\n",
       "      <td>Giải Trí</td>\n",
       "      <td>677990704</td>\n",
       "      <td>60207236</td>\n",
       "      <td>27:00</td>\n",
       "      <td>4.70</td>\n",
       "      <td>21.67%</td>\n",
       "      <td>394,265,449 USD</td>\n",
       "    </tr>\n",
       "    <tr>\n",
       "      <th>1</th>\n",
       "      <td>google.com</td>\n",
       "      <td>Công nghệ</td>\n",
       "      <td>526252980</td>\n",
       "      <td>75240611</td>\n",
       "      <td>21:27</td>\n",
       "      <td>3.34</td>\n",
       "      <td>40.51%</td>\n",
       "      <td>402,260,531 USD</td>\n",
       "    </tr>\n",
       "    <tr>\n",
       "      <th>2</th>\n",
       "      <td>facebook.com</td>\n",
       "      <td>Công nghệ</td>\n",
       "      <td>249247541</td>\n",
       "      <td>47305238</td>\n",
       "      <td>27:37</td>\n",
       "      <td>3.27</td>\n",
       "      <td>50.21%</td>\n",
       "      <td>86,066,277 USD</td>\n",
       "    </tr>\n",
       "  </tbody>\n",
       "</table>\n",
       "</div>"
      ],
      "text/plain": [
       "        Website      Field    Traffic   Visitor Average Time  Page/Visit  \\\n",
       "0   youtube.com   Giải Trí  677990704  60207236        27:00        4.70   \n",
       "1    google.com  Công nghệ  526252980  75240611        21:27        3.34   \n",
       "2  facebook.com  Công nghệ  249247541  47305238        27:37        3.27   \n",
       "\n",
       "  PC vs Mobile            Value  \n",
       "0       21.67%  394,265,449 USD  \n",
       "1       40.51%  402,260,531 USD  \n",
       "2       50.21%   86,066,277 USD  "
      ]
     },
     "execution_count": 86,
     "metadata": {},
     "output_type": "execute_result"
    }
   ],
   "source": [
    "df.rename(columns={'Lĩnh vực':'Field',\n",
    "                    'U.Visitor':'Visitor', \n",
    "                    'T/Gian': 'Average Time',\n",
    "                    'Page.Visit': 'Page/Visit',\n",
    "                    'Trị giá': 'Value'}, inplace=True)\n",
    "df.head(3)"
   ]
  },
  {
   "cell_type": "markdown",
   "metadata": {},
   "source": [
    "### Acronyms:\n",
    "- Traffic: total accesses.\n",
    "- Visitor: total visitors. If an IP access the website and experienced 3 pages of the website, the count for Visitor is 1 and Traffic is 3\n",
    "- Average Time (minutes): average use time of an IP/total visitors\n",
    "- Page/Visit: average pages experienced by an IP/total visitors\n",
    "- PC vs Mobile (percentage): rate of visitors using PC in comparison with that of Mobile\n",
    "- Value (USD): value of the website based on 3 factors: traffic, expense on ads and growth rate"
   ]
  },
  {
   "cell_type": "markdown",
   "metadata": {},
   "source": [
    "Convert Value column from categorical to numerical "
   ]
  },
  {
   "cell_type": "code",
   "execution_count": 87,
   "metadata": {},
   "outputs": [
    {
     "data": {
      "text/html": [
       "<div>\n",
       "<style scoped>\n",
       "    .dataframe tbody tr th:only-of-type {\n",
       "        vertical-align: middle;\n",
       "    }\n",
       "\n",
       "    .dataframe tbody tr th {\n",
       "        vertical-align: top;\n",
       "    }\n",
       "\n",
       "    .dataframe thead th {\n",
       "        text-align: right;\n",
       "    }\n",
       "</style>\n",
       "<table border=\"1\" class=\"dataframe\">\n",
       "  <thead>\n",
       "    <tr style=\"text-align: right;\">\n",
       "      <th></th>\n",
       "      <th>Website</th>\n",
       "      <th>Field</th>\n",
       "      <th>Traffic</th>\n",
       "      <th>Visitor</th>\n",
       "      <th>Average Time</th>\n",
       "      <th>Page/Visit</th>\n",
       "      <th>PC vs Mobile</th>\n",
       "      <th>Value</th>\n",
       "    </tr>\n",
       "  </thead>\n",
       "  <tbody>\n",
       "    <tr>\n",
       "      <th>0</th>\n",
       "      <td>youtube.com</td>\n",
       "      <td>Giải Trí</td>\n",
       "      <td>677990704</td>\n",
       "      <td>60207236</td>\n",
       "      <td>27.00</td>\n",
       "      <td>4.70</td>\n",
       "      <td>21.67</td>\n",
       "      <td>394265449.0</td>\n",
       "    </tr>\n",
       "    <tr>\n",
       "      <th>1</th>\n",
       "      <td>google.com</td>\n",
       "      <td>Công nghệ</td>\n",
       "      <td>526252980</td>\n",
       "      <td>75240611</td>\n",
       "      <td>21.45</td>\n",
       "      <td>3.34</td>\n",
       "      <td>40.51</td>\n",
       "      <td>402260531.0</td>\n",
       "    </tr>\n",
       "    <tr>\n",
       "      <th>2</th>\n",
       "      <td>facebook.com</td>\n",
       "      <td>Công nghệ</td>\n",
       "      <td>249247541</td>\n",
       "      <td>47305238</td>\n",
       "      <td>27.62</td>\n",
       "      <td>3.27</td>\n",
       "      <td>50.21</td>\n",
       "      <td>86066277.0</td>\n",
       "    </tr>\n",
       "    <tr>\n",
       "      <th>3</th>\n",
       "      <td>vnexpress.net</td>\n",
       "      <td>Tin tức</td>\n",
       "      <td>108599729</td>\n",
       "      <td>13972155</td>\n",
       "      <td>20.62</td>\n",
       "      <td>3.55</td>\n",
       "      <td>14.33</td>\n",
       "      <td>1338351.0</td>\n",
       "    </tr>\n",
       "    <tr>\n",
       "      <th>4</th>\n",
       "      <td>truyenfull.vn</td>\n",
       "      <td>Giải Trí</td>\n",
       "      <td>87648359</td>\n",
       "      <td>8094622</td>\n",
       "      <td>54.57</td>\n",
       "      <td>7.71</td>\n",
       "      <td>2.23</td>\n",
       "      <td>858829.0</td>\n",
       "    </tr>\n",
       "  </tbody>\n",
       "</table>\n",
       "</div>"
      ],
      "text/plain": [
       "         Website      Field    Traffic   Visitor  Average Time  Page/Visit  \\\n",
       "0    youtube.com   Giải Trí  677990704  60207236         27.00        4.70   \n",
       "1     google.com  Công nghệ  526252980  75240611         21.45        3.34   \n",
       "2   facebook.com  Công nghệ  249247541  47305238         27.62        3.27   \n",
       "3  vnexpress.net    Tin tức  108599729  13972155         20.62        3.55   \n",
       "4  truyenfull.vn   Giải Trí   87648359   8094622         54.57        7.71   \n",
       "\n",
       "   PC vs Mobile        Value  \n",
       "0         21.67  394265449.0  \n",
       "1         40.51  402260531.0  \n",
       "2         50.21   86066277.0  \n",
       "3         14.33    1338351.0  \n",
       "4          2.23     858829.0  "
      ]
     },
     "execution_count": 87,
     "metadata": {},
     "output_type": "execute_result"
    }
   ],
   "source": [
    "# remove USD\n",
    "rm1 = df['Value'].str.replace(',','')\n",
    "rm2 = rm1.str.replace(' USD', '')\n",
    "df['Value'] = rm2.astype(float) \n",
    "\n",
    "# remove % \n",
    "rm3 = df['PC vs Mobile'].str.replace('%','')\n",
    "df['PC vs Mobile'] = rm3.astype(float) \n",
    "\n",
    "# conver to minutes\n",
    "new_time = []\n",
    "for ele in df['Average Time']:\n",
    "    second = int(ele[-2:])/60\n",
    "    minute = round(int(ele[:-3]) + second,2)\n",
    "    new_time.append(minute)\n",
    "df['Average Time'] = new_time\n",
    "\n",
    "df.head(5) "
   ]
  },
  {
   "cell_type": "markdown",
   "metadata": {},
   "source": [
    "# DATA PREPROCESSING"
   ]
  },
  {
   "cell_type": "markdown",
   "metadata": {},
   "source": [
    "Duplicated data"
   ]
  },
  {
   "cell_type": "code",
   "execution_count": 88,
   "metadata": {},
   "outputs": [
    {
     "data": {
      "text/html": [
       "<div>\n",
       "<style scoped>\n",
       "    .dataframe tbody tr th:only-of-type {\n",
       "        vertical-align: middle;\n",
       "    }\n",
       "\n",
       "    .dataframe tbody tr th {\n",
       "        vertical-align: top;\n",
       "    }\n",
       "\n",
       "    .dataframe thead th {\n",
       "        text-align: right;\n",
       "    }\n",
       "</style>\n",
       "<table border=\"1\" class=\"dataframe\">\n",
       "  <thead>\n",
       "    <tr style=\"text-align: right;\">\n",
       "      <th></th>\n",
       "      <th>Website</th>\n",
       "      <th>Field</th>\n",
       "      <th>Traffic</th>\n",
       "      <th>Visitor</th>\n",
       "      <th>Average Time</th>\n",
       "      <th>Page/Visit</th>\n",
       "      <th>PC vs Mobile</th>\n",
       "      <th>Value</th>\n",
       "    </tr>\n",
       "  </thead>\n",
       "  <tbody>\n",
       "    <tr>\n",
       "      <th>50</th>\n",
       "      <td>youtube.com</td>\n",
       "      <td>Giải Trí</td>\n",
       "      <td>677990704</td>\n",
       "      <td>60207236</td>\n",
       "      <td>27.00</td>\n",
       "      <td>4.70</td>\n",
       "      <td>21.67</td>\n",
       "      <td>394265449.0</td>\n",
       "    </tr>\n",
       "    <tr>\n",
       "      <th>51</th>\n",
       "      <td>google.com</td>\n",
       "      <td>Công nghệ</td>\n",
       "      <td>526252980</td>\n",
       "      <td>75240611</td>\n",
       "      <td>21.45</td>\n",
       "      <td>3.34</td>\n",
       "      <td>40.51</td>\n",
       "      <td>402260531.0</td>\n",
       "    </tr>\n",
       "    <tr>\n",
       "      <th>52</th>\n",
       "      <td>facebook.com</td>\n",
       "      <td>Công nghệ</td>\n",
       "      <td>249247541</td>\n",
       "      <td>47305238</td>\n",
       "      <td>27.62</td>\n",
       "      <td>3.27</td>\n",
       "      <td>50.21</td>\n",
       "      <td>86066277.0</td>\n",
       "    </tr>\n",
       "    <tr>\n",
       "      <th>53</th>\n",
       "      <td>vnexpress.net</td>\n",
       "      <td>Tin tức</td>\n",
       "      <td>108599729</td>\n",
       "      <td>13972155</td>\n",
       "      <td>20.62</td>\n",
       "      <td>3.55</td>\n",
       "      <td>14.33</td>\n",
       "      <td>1338351.0</td>\n",
       "    </tr>\n",
       "    <tr>\n",
       "      <th>54</th>\n",
       "      <td>truyenfull.vn</td>\n",
       "      <td>Giải Trí</td>\n",
       "      <td>87648359</td>\n",
       "      <td>8094622</td>\n",
       "      <td>54.57</td>\n",
       "      <td>7.71</td>\n",
       "      <td>2.23</td>\n",
       "      <td>858829.0</td>\n",
       "    </tr>\n",
       "    <tr>\n",
       "      <th>...</th>\n",
       "      <td>...</td>\n",
       "      <td>...</td>\n",
       "      <td>...</td>\n",
       "      <td>...</td>\n",
       "      <td>...</td>\n",
       "      <td>...</td>\n",
       "      <td>...</td>\n",
       "      <td>...</td>\n",
       "    </tr>\n",
       "    <tr>\n",
       "      <th>6545</th>\n",
       "      <td>edu.1c.ru</td>\n",
       "      <td>NaN</td>\n",
       "      <td>42418</td>\n",
       "      <td>4666</td>\n",
       "      <td>29.15</td>\n",
       "      <td>2.55</td>\n",
       "      <td>100.00</td>\n",
       "      <td>36616.0</td>\n",
       "    </tr>\n",
       "    <tr>\n",
       "      <th>6546</th>\n",
       "      <td>pachaiphong.vn</td>\n",
       "      <td>NaN</td>\n",
       "      <td>42391</td>\n",
       "      <td>41055</td>\n",
       "      <td>20.50</td>\n",
       "      <td>1.06</td>\n",
       "      <td>28.37</td>\n",
       "      <td>357.0</td>\n",
       "    </tr>\n",
       "    <tr>\n",
       "      <th>6547</th>\n",
       "      <td>monngon.tv</td>\n",
       "      <td>Thực phẩm</td>\n",
       "      <td>42378</td>\n",
       "      <td>37406</td>\n",
       "      <td>2.75</td>\n",
       "      <td>1.20</td>\n",
       "      <td>55.06</td>\n",
       "      <td>369.0</td>\n",
       "    </tr>\n",
       "    <tr>\n",
       "      <th>6548</th>\n",
       "      <td>well.ca</td>\n",
       "      <td>Sức khỏe</td>\n",
       "      <td>42360</td>\n",
       "      <td>4236</td>\n",
       "      <td>10.80</td>\n",
       "      <td>1.60</td>\n",
       "      <td>100.00</td>\n",
       "      <td>16767.0</td>\n",
       "    </tr>\n",
       "    <tr>\n",
       "      <th>6549</th>\n",
       "      <td>alokiddy.com.vn</td>\n",
       "      <td>Khoa học</td>\n",
       "      <td>42334</td>\n",
       "      <td>28812</td>\n",
       "      <td>12.67</td>\n",
       "      <td>7.29</td>\n",
       "      <td>85.55</td>\n",
       "      <td>367.0</td>\n",
       "    </tr>\n",
       "  </tbody>\n",
       "</table>\n",
       "<p>350 rows × 8 columns</p>\n",
       "</div>"
      ],
      "text/plain": [
       "              Website      Field    Traffic   Visitor  Average Time  \\\n",
       "50        youtube.com   Giải Trí  677990704  60207236         27.00   \n",
       "51         google.com  Công nghệ  526252980  75240611         21.45   \n",
       "52       facebook.com  Công nghệ  249247541  47305238         27.62   \n",
       "53      vnexpress.net    Tin tức  108599729  13972155         20.62   \n",
       "54      truyenfull.vn   Giải Trí   87648359   8094622         54.57   \n",
       "...               ...        ...        ...       ...           ...   \n",
       "6545        edu.1c.ru        NaN      42418      4666         29.15   \n",
       "6546   pachaiphong.vn        NaN      42391     41055         20.50   \n",
       "6547       monngon.tv  Thực phẩm      42378     37406          2.75   \n",
       "6548          well.ca   Sức khỏe      42360      4236         10.80   \n",
       "6549  alokiddy.com.vn   Khoa học      42334     28812         12.67   \n",
       "\n",
       "      Page/Visit  PC vs Mobile        Value  \n",
       "50          4.70         21.67  394265449.0  \n",
       "51          3.34         40.51  402260531.0  \n",
       "52          3.27         50.21   86066277.0  \n",
       "53          3.55         14.33    1338351.0  \n",
       "54          7.71          2.23     858829.0  \n",
       "...          ...           ...          ...  \n",
       "6545        2.55        100.00      36616.0  \n",
       "6546        1.06         28.37        357.0  \n",
       "6547        1.20         55.06        369.0  \n",
       "6548        1.60        100.00      16767.0  \n",
       "6549        7.29         85.55        367.0  \n",
       "\n",
       "[350 rows x 8 columns]"
      ]
     },
     "execution_count": 88,
     "metadata": {},
     "output_type": "execute_result"
    }
   ],
   "source": [
    "df[df.duplicated()]"
   ]
  },
  {
   "cell_type": "code",
   "execution_count": 89,
   "metadata": {},
   "outputs": [],
   "source": [
    "# Remove 350 duplicates\n",
    "df.drop_duplicates(inplace=True)"
   ]
  },
  {
   "cell_type": "code",
   "execution_count": 90,
   "metadata": {},
   "outputs": [
    {
     "data": {
      "text/plain": [
       "(24650, 8)"
      ]
     },
     "execution_count": 90,
     "metadata": {},
     "output_type": "execute_result"
    }
   ],
   "source": [
    "df.shape"
   ]
  },
  {
   "cell_type": "markdown",
   "metadata": {},
   "source": [
    "Missing Values"
   ]
  },
  {
   "cell_type": "code",
   "execution_count": 91,
   "metadata": {},
   "outputs": [
    {
     "data": {
      "text/plain": [
       "Website            0\n",
       "Field           3133\n",
       "Traffic            0\n",
       "Visitor            0\n",
       "Average Time       0\n",
       "Page/Visit         0\n",
       "PC vs Mobile       0\n",
       "Value              0\n",
       "dtype: int64"
      ]
     },
     "execution_count": 91,
     "metadata": {},
     "output_type": "execute_result"
    }
   ],
   "source": [
    "df.isnull().sum()"
   ]
  },
  {
   "cell_type": "code",
   "execution_count": 92,
   "metadata": {},
   "outputs": [
    {
     "data": {
      "text/plain": [
       "array(['Giải Trí', 'Công nghệ', 'Tin tức', nan, 'Trò chơi', 'TMDT',\n",
       "       'Tài liệu', 'Người lớn', 'Social Casino', 'Sức khỏe', 'Khoa học',\n",
       "       'Thể thao', 'Nghề nghiệp', 'Tài chính', 'Chính phủ', 'Đời sống',\n",
       "       'Doanh nghiệp', 'Nhà cửa', 'Xe cộ', 'Thực phẩm', 'Du lịch',\n",
       "       'Động vật', 'Sở thích', 'Cộng đồng', 'Công nghiệp'], dtype=object)"
      ]
     },
     "execution_count": 92,
     "metadata": {},
     "output_type": "execute_result"
    }
   ],
   "source": [
    "df['Field'].unique()"
   ]
  },
  {
   "cell_type": "code",
   "execution_count": 93,
   "metadata": {},
   "outputs": [
    {
     "data": {
      "text/plain": [
       "Website         0\n",
       "Field           0\n",
       "Traffic         0\n",
       "Visitor         0\n",
       "Average Time    0\n",
       "Page/Visit      0\n",
       "PC vs Mobile    0\n",
       "Value           0\n",
       "dtype: int64"
      ]
     },
     "execution_count": 93,
     "metadata": {},
     "output_type": "execute_result"
    }
   ],
   "source": [
    "# Replace nulls in the Field column with 'Missing'\n",
    "df['Field'] = df['Field'].fillna('Missing')\n",
    "df.isnull().sum()"
   ]
  },
  {
   "cell_type": "markdown",
   "metadata": {},
   "source": [
    "# Analysis"
   ]
  },
  {
   "cell_type": "markdown",
   "metadata": {},
   "source": [
    "### Data Type"
   ]
  },
  {
   "cell_type": "code",
   "execution_count": 94,
   "metadata": {},
   "outputs": [
    {
     "data": {
      "text/plain": [
       "Website          object\n",
       "Field            object\n",
       "Traffic           int64\n",
       "Visitor           int64\n",
       "Average Time    float64\n",
       "Page/Visit      float64\n",
       "PC vs Mobile    float64\n",
       "Value           float64\n",
       "dtype: object"
      ]
     },
     "execution_count": 94,
     "metadata": {},
     "output_type": "execute_result"
    }
   ],
   "source": [
    "df.dtypes"
   ]
  },
  {
   "cell_type": "markdown",
   "metadata": {},
   "source": [
    "### Descriptive statistics"
   ]
  },
  {
   "cell_type": "code",
   "execution_count": 95,
   "metadata": {},
   "outputs": [
    {
     "data": {
      "text/html": [
       "<div>\n",
       "<style scoped>\n",
       "    .dataframe tbody tr th:only-of-type {\n",
       "        vertical-align: middle;\n",
       "    }\n",
       "\n",
       "    .dataframe tbody tr th {\n",
       "        vertical-align: top;\n",
       "    }\n",
       "\n",
       "    .dataframe thead th {\n",
       "        text-align: right;\n",
       "    }\n",
       "</style>\n",
       "<table border=\"1\" class=\"dataframe\">\n",
       "  <thead>\n",
       "    <tr style=\"text-align: right;\">\n",
       "      <th></th>\n",
       "      <th>Traffic</th>\n",
       "      <th>Visitor</th>\n",
       "      <th>Average Time</th>\n",
       "      <th>Page/Visit</th>\n",
       "      <th>PC vs Mobile</th>\n",
       "      <th>Value</th>\n",
       "    </tr>\n",
       "  </thead>\n",
       "  <tbody>\n",
       "    <tr>\n",
       "      <th>count</th>\n",
       "      <td>2.465000e+04</td>\n",
       "      <td>2.465000e+04</td>\n",
       "      <td>24650.000000</td>\n",
       "      <td>24650.000000</td>\n",
       "      <td>24650.000000</td>\n",
       "      <td>2.465000e+04</td>\n",
       "    </tr>\n",
       "    <tr>\n",
       "      <th>mean</th>\n",
       "      <td>2.452059e+05</td>\n",
       "      <td>7.588851e+04</td>\n",
       "      <td>10.079852</td>\n",
       "      <td>2.883843</td>\n",
       "      <td>83.708623</td>\n",
       "      <td>1.132181e+05</td>\n",
       "    </tr>\n",
       "    <tr>\n",
       "      <th>std</th>\n",
       "      <td>5.957803e+06</td>\n",
       "      <td>8.230523e+05</td>\n",
       "      <td>14.347987</td>\n",
       "      <td>5.236847</td>\n",
       "      <td>28.924637</td>\n",
       "      <td>3.717009e+06</td>\n",
       "    </tr>\n",
       "    <tr>\n",
       "      <th>min</th>\n",
       "      <td>3.106000e+03</td>\n",
       "      <td>3.130000e+02</td>\n",
       "      <td>0.000000</td>\n",
       "      <td>0.340000</td>\n",
       "      <td>0.000000</td>\n",
       "      <td>2.600000e+01</td>\n",
       "    </tr>\n",
       "    <tr>\n",
       "      <th>25%</th>\n",
       "      <td>6.115000e+03</td>\n",
       "      <td>4.048250e+03</td>\n",
       "      <td>1.500000</td>\n",
       "      <td>1.250000</td>\n",
       "      <td>77.137500</td>\n",
       "      <td>1.310000e+02</td>\n",
       "    </tr>\n",
       "    <tr>\n",
       "      <th>50%</th>\n",
       "      <td>1.304300e+04</td>\n",
       "      <td>8.137500e+03</td>\n",
       "      <td>6.200000</td>\n",
       "      <td>1.800000</td>\n",
       "      <td>100.000000</td>\n",
       "      <td>1.706000e+03</td>\n",
       "    </tr>\n",
       "    <tr>\n",
       "      <th>75%</th>\n",
       "      <td>4.276450e+04</td>\n",
       "      <td>2.191050e+04</td>\n",
       "      <td>13.377500</td>\n",
       "      <td>3.050000</td>\n",
       "      <td>100.000000</td>\n",
       "      <td>1.899075e+04</td>\n",
       "    </tr>\n",
       "    <tr>\n",
       "      <th>max</th>\n",
       "      <td>6.779907e+08</td>\n",
       "      <td>7.524061e+07</td>\n",
       "      <td>303.020000</td>\n",
       "      <td>489.300000</td>\n",
       "      <td>100.000000</td>\n",
       "      <td>4.022605e+08</td>\n",
       "    </tr>\n",
       "  </tbody>\n",
       "</table>\n",
       "</div>"
      ],
      "text/plain": [
       "            Traffic       Visitor  Average Time    Page/Visit  PC vs Mobile  \\\n",
       "count  2.465000e+04  2.465000e+04  24650.000000  24650.000000  24650.000000   \n",
       "mean   2.452059e+05  7.588851e+04     10.079852      2.883843     83.708623   \n",
       "std    5.957803e+06  8.230523e+05     14.347987      5.236847     28.924637   \n",
       "min    3.106000e+03  3.130000e+02      0.000000      0.340000      0.000000   \n",
       "25%    6.115000e+03  4.048250e+03      1.500000      1.250000     77.137500   \n",
       "50%    1.304300e+04  8.137500e+03      6.200000      1.800000    100.000000   \n",
       "75%    4.276450e+04  2.191050e+04     13.377500      3.050000    100.000000   \n",
       "max    6.779907e+08  7.524061e+07    303.020000    489.300000    100.000000   \n",
       "\n",
       "              Value  \n",
       "count  2.465000e+04  \n",
       "mean   1.132181e+05  \n",
       "std    3.717009e+06  \n",
       "min    2.600000e+01  \n",
       "25%    1.310000e+02  \n",
       "50%    1.706000e+03  \n",
       "75%    1.899075e+04  \n",
       "max    4.022605e+08  "
      ]
     },
     "execution_count": 95,
     "metadata": {},
     "output_type": "execute_result"
    }
   ],
   "source": [
    "df.describe()"
   ]
  },
  {
   "cell_type": "markdown",
   "metadata": {},
   "source": [
    "### Data distribution"
   ]
  },
  {
   "cell_type": "markdown",
   "metadata": {},
   "source": [
    "Numerical columns"
   ]
  },
  {
   "cell_type": "code",
   "execution_count": 96,
   "metadata": {},
   "outputs": [
    {
     "data": {
      "image/png": "[encoded data removed]",
      "text/plain": [
       "<Figure size 1080x720 with 6 Axes>"
      ]
     },
     "metadata": {
      "needs_background": "light"
     },
     "output_type": "display_data"
    }
   ],
   "source": [
    "plt.figure(figsize=(15,10))\n",
    "columns = ['Traffic','Visitor','Average Time', 'Page/Visit','PC vs Mobile','Value']\n",
    "for ind, col in enumerate(columns):\n",
    "    plt.subplot(2,3, ind+1)\n",
    "    sns.kdeplot(df[col], color='darkred')\n",
    "plt.tight_layout()\n",
    "plt.show()"
   ]
  },
  {
   "cell_type": "markdown",
   "metadata": {},
   "source": [
    "- It is clear that data distribution in all numerical columns is imbalanced\n",
    "- This indicates the significant difference in the popularity between multiple websites"
   ]
  },
  {
   "cell_type": "markdown",
   "metadata": {},
   "source": [
    "Categorical column"
   ]
  },
  {
   "cell_type": "code",
   "execution_count": 97,
   "metadata": {},
   "outputs": [
    {
     "data": {
      "image/png": "[encoded data removed]",
      "text/plain": [
       "<Figure size 504x504 with 1 Axes>"
      ]
     },
     "metadata": {},
     "output_type": "display_data"
    }
   ],
   "source": [
    "labels = df['Field'].value_counts().index\n",
    "sizes = df['Field'].value_counts ().values\n",
    "\n",
    "plt.figure(figsize =(7,7), facecolor='white')\n",
    "plt.pie(sizes, labels=labels, autopct=\"%.2f%%\")\n",
    "plt.title(\"Number of Regions\")\n",
    "plt.show()"
   ]
  },
  {
   "cell_type": "markdown",
   "metadata": {},
   "source": [
    "- TECHNOLOGY dominates the chart with 26.28%\n",
    "- MISSING accounts for a huge a proportion "
   ]
  },
  {
   "cell_type": "markdown",
   "metadata": {},
   "source": [
    "### Relationship analysis"
   ]
  },
  {
   "cell_type": "code",
   "execution_count": 98,
   "metadata": {},
   "outputs": [
    {
     "data": {
      "image/png": "[encoded data removed]",
      "text/plain": [
       "<Figure size 576x432 with 2 Axes>"
      ]
     },
     "metadata": {
      "needs_background": "light"
     },
     "output_type": "display_data"
    }
   ],
   "source": [
    "corr = df.corr()\n",
    "plt.figure(figsize=(8,6))\n",
    "sns.heatmap(data=corr, annot=True)\n",
    "plt.show()"
   ]
  },
  {
   "cell_type": "markdown",
   "metadata": {},
   "source": [
    "- There are noticeable correlations between Traffic/Value and Visitor/Value. Obviously, the value of a website is based on the number of Traffic and Visitor \n",
    "- There is a high correlation between Visitors and Traffic. This is because the count of Traffic relies on the count of Visitor. If an IP didn't visit the website, there wouldn't be any increase in Traffic.  "
   ]
  },
  {
   "cell_type": "code",
   "execution_count": null,
   "metadata": {},
   "outputs": [],
   "source": []
  }
 ],
 "metadata": {
  "interpreter": {
   "hash": "a14f5ed0fe1cfa743fda551bfa7f3d9e377dd88f6fb21b13418cd27d5fec0d49"
  },
  "kernelspec": {
   "display_name": "Python 3.9.7 ('base')",
   "language": "python",
   "name": "python3"
  },
  "language_info": {
   "codemirror_mode": {
    "name": "ipython",
    "version": 3
   },
   "file_extension": ".py",
   "mimetype": "text/x-python",
   "name": "python",
   "nbconvert_exporter": "python",
   "pygments_lexer": "ipython3",
   "version": "3.9.7"
  },
  "orig_nbformat": 4
 },
 "nbformat": 4,
 "nbformat_minor": 2
}
